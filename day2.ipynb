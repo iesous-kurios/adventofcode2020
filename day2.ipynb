{
  "nbformat": 4,
  "nbformat_minor": 0,
  "metadata": {
    "colab": {
      "name": "day2.ipynb",
      "provenance": [],
      "collapsed_sections": [],
      "authorship_tag": "ABX9TyMxSNaNLB0/DxJW6QiFIDMZ",
      "include_colab_link": true
    },
    "kernelspec": {
      "name": "python3",
      "display_name": "Python 3"
    }
  },
  "cells": [
    {
      "cell_type": "markdown",
      "metadata": {
        "id": "view-in-github",
        "colab_type": "text"
      },
      "source": [
        "<a href=\"https://colab.research.google.com/github/iesous-kurios/adventofcode2020/blob/main/day2.ipynb\" target=\"_parent\"><img src=\"https://colab.research.google.com/assets/colab-badge.svg\" alt=\"Open In Colab\"/></a>"
      ]
    },
    {
      "cell_type": "code",
      "metadata": {
        "id": "fO3oq4FeU2qh"
      },
      "source": [
        "import pandas as pd\n",
        "\n",
        "df = pd.read_csv('/content/input2.csv', header=None)"
      ],
      "execution_count": 1,
      "outputs": []
    },
    {
      "cell_type": "code",
      "metadata": {
        "id": "9whvqttHVG0k"
      },
      "source": [
        "df[['nums', 'letter', 'code']] = df[0].str.split(expand=True)"
      ],
      "execution_count": 2,
      "outputs": []
    },
    {
      "cell_type": "code",
      "metadata": {
        "colab": {
          "base_uri": "https://localhost:8080/",
          "height": 198
        },
        "id": "v6vWc18JWJzG",
        "outputId": "b8de8763-ee40-4f23-fc0a-e5318aebd713"
      },
      "source": [
        "df.head()"
      ],
      "execution_count": 3,
      "outputs": [
        {
          "output_type": "execute_result",
          "data": {
            "text/html": [
              "<div>\n",
              "<style scoped>\n",
              "    .dataframe tbody tr th:only-of-type {\n",
              "        vertical-align: middle;\n",
              "    }\n",
              "\n",
              "    .dataframe tbody tr th {\n",
              "        vertical-align: top;\n",
              "    }\n",
              "\n",
              "    .dataframe thead th {\n",
              "        text-align: right;\n",
              "    }\n",
              "</style>\n",
              "<table border=\"1\" class=\"dataframe\">\n",
              "  <thead>\n",
              "    <tr style=\"text-align: right;\">\n",
              "      <th></th>\n",
              "      <th>0</th>\n",
              "      <th>nums</th>\n",
              "      <th>letter</th>\n",
              "      <th>code</th>\n",
              "    </tr>\n",
              "  </thead>\n",
              "  <tbody>\n",
              "    <tr>\n",
              "      <th>0</th>\n",
              "      <td>13-14 f: ffffffffnfffvv</td>\n",
              "      <td>13-14</td>\n",
              "      <td>f:</td>\n",
              "      <td>ffffffffnfffvv</td>\n",
              "    </tr>\n",
              "    <tr>\n",
              "      <th>1</th>\n",
              "      <td>10-12 w: kwtzpnzspwwwdz</td>\n",
              "      <td>10-12</td>\n",
              "      <td>w:</td>\n",
              "      <td>kwtzpnzspwwwdz</td>\n",
              "    </tr>\n",
              "    <tr>\n",
              "      <th>2</th>\n",
              "      <td>2-3 n: nnjn</td>\n",
              "      <td>2-3</td>\n",
              "      <td>n:</td>\n",
              "      <td>nnjn</td>\n",
              "    </tr>\n",
              "    <tr>\n",
              "      <th>3</th>\n",
              "      <td>2-3 h: hhhh</td>\n",
              "      <td>2-3</td>\n",
              "      <td>h:</td>\n",
              "      <td>hhhh</td>\n",
              "    </tr>\n",
              "    <tr>\n",
              "      <th>4</th>\n",
              "      <td>2-11 c: crccccccccsccc</td>\n",
              "      <td>2-11</td>\n",
              "      <td>c:</td>\n",
              "      <td>crccccccccsccc</td>\n",
              "    </tr>\n",
              "  </tbody>\n",
              "</table>\n",
              "</div>"
            ],
            "text/plain": [
              "                         0   nums letter            code\n",
              "0  13-14 f: ffffffffnfffvv  13-14     f:  ffffffffnfffvv\n",
              "1  10-12 w: kwtzpnzspwwwdz  10-12     w:  kwtzpnzspwwwdz\n",
              "2              2-3 n: nnjn    2-3     n:            nnjn\n",
              "3              2-3 h: hhhh    2-3     h:            hhhh\n",
              "4   2-11 c: crccccccccsccc   2-11     c:  crccccccccsccc"
            ]
          },
          "metadata": {
            "tags": []
          },
          "execution_count": 3
        }
      ]
    },
    {
      "cell_type": "code",
      "metadata": {
        "id": "o98ALJrpVG9L"
      },
      "source": [
        "df[['low', 'high']] = df['nums'].str.split('-', expand=True)"
      ],
      "execution_count": 4,
      "outputs": []
    },
    {
      "cell_type": "code",
      "metadata": {
        "colab": {
          "base_uri": "https://localhost:8080/",
          "height": 198
        },
        "id": "fkNF2vjQVHAs",
        "outputId": "06d8a446-5349-4544-a76a-ca160b213ebd"
      },
      "source": [
        "df.head()"
      ],
      "execution_count": 5,
      "outputs": [
        {
          "output_type": "execute_result",
          "data": {
            "text/html": [
              "<div>\n",
              "<style scoped>\n",
              "    .dataframe tbody tr th:only-of-type {\n",
              "        vertical-align: middle;\n",
              "    }\n",
              "\n",
              "    .dataframe tbody tr th {\n",
              "        vertical-align: top;\n",
              "    }\n",
              "\n",
              "    .dataframe thead th {\n",
              "        text-align: right;\n",
              "    }\n",
              "</style>\n",
              "<table border=\"1\" class=\"dataframe\">\n",
              "  <thead>\n",
              "    <tr style=\"text-align: right;\">\n",
              "      <th></th>\n",
              "      <th>0</th>\n",
              "      <th>nums</th>\n",
              "      <th>letter</th>\n",
              "      <th>code</th>\n",
              "      <th>low</th>\n",
              "      <th>high</th>\n",
              "    </tr>\n",
              "  </thead>\n",
              "  <tbody>\n",
              "    <tr>\n",
              "      <th>0</th>\n",
              "      <td>13-14 f: ffffffffnfffvv</td>\n",
              "      <td>13-14</td>\n",
              "      <td>f:</td>\n",
              "      <td>ffffffffnfffvv</td>\n",
              "      <td>13</td>\n",
              "      <td>14</td>\n",
              "    </tr>\n",
              "    <tr>\n",
              "      <th>1</th>\n",
              "      <td>10-12 w: kwtzpnzspwwwdz</td>\n",
              "      <td>10-12</td>\n",
              "      <td>w:</td>\n",
              "      <td>kwtzpnzspwwwdz</td>\n",
              "      <td>10</td>\n",
              "      <td>12</td>\n",
              "    </tr>\n",
              "    <tr>\n",
              "      <th>2</th>\n",
              "      <td>2-3 n: nnjn</td>\n",
              "      <td>2-3</td>\n",
              "      <td>n:</td>\n",
              "      <td>nnjn</td>\n",
              "      <td>2</td>\n",
              "      <td>3</td>\n",
              "    </tr>\n",
              "    <tr>\n",
              "      <th>3</th>\n",
              "      <td>2-3 h: hhhh</td>\n",
              "      <td>2-3</td>\n",
              "      <td>h:</td>\n",
              "      <td>hhhh</td>\n",
              "      <td>2</td>\n",
              "      <td>3</td>\n",
              "    </tr>\n",
              "    <tr>\n",
              "      <th>4</th>\n",
              "      <td>2-11 c: crccccccccsccc</td>\n",
              "      <td>2-11</td>\n",
              "      <td>c:</td>\n",
              "      <td>crccccccccsccc</td>\n",
              "      <td>2</td>\n",
              "      <td>11</td>\n",
              "    </tr>\n",
              "  </tbody>\n",
              "</table>\n",
              "</div>"
            ],
            "text/plain": [
              "                         0   nums letter            code low high\n",
              "0  13-14 f: ffffffffnfffvv  13-14     f:  ffffffffnfffvv  13   14\n",
              "1  10-12 w: kwtzpnzspwwwdz  10-12     w:  kwtzpnzspwwwdz  10   12\n",
              "2              2-3 n: nnjn    2-3     n:            nnjn   2    3\n",
              "3              2-3 h: hhhh    2-3     h:            hhhh   2    3\n",
              "4   2-11 c: crccccccccsccc   2-11     c:  crccccccccsccc   2   11"
            ]
          },
          "metadata": {
            "tags": []
          },
          "execution_count": 5
        }
      ]
    },
    {
      "cell_type": "code",
      "metadata": {
        "id": "wJebGGwhYF6V"
      },
      "source": [
        "df['letter2'] = 1"
      ],
      "execution_count": 6,
      "outputs": []
    },
    {
      "cell_type": "code",
      "metadata": {
        "colab": {
          "base_uri": "https://localhost:8080/"
        },
        "id": "mLuTvmGLVHEx",
        "outputId": "ddfce3d3-e6a3-4629-dc62-d46aead42069"
      },
      "source": [
        "for i in range(0, len(df['letter'])):\n",
        "    df['letter2'][i] = df['letter'][i][0]\n"
      ],
      "execution_count": 7,
      "outputs": [
        {
          "output_type": "stream",
          "text": [
            "/usr/local/lib/python3.6/dist-packages/ipykernel_launcher.py:2: SettingWithCopyWarning: \n",
            "A value is trying to be set on a copy of a slice from a DataFrame\n",
            "\n",
            "See the caveats in the documentation: https://pandas.pydata.org/pandas-docs/stable/user_guide/indexing.html#returning-a-view-versus-a-copy\n",
            "  \n",
            "/usr/local/lib/python3.6/dist-packages/pandas/core/indexing.py:670: SettingWithCopyWarning: \n",
            "A value is trying to be set on a copy of a slice from a DataFrame\n",
            "\n",
            "See the caveats in the documentation: https://pandas.pydata.org/pandas-docs/stable/user_guide/indexing.html#returning-a-view-versus-a-copy\n",
            "  iloc._setitem_with_indexer(indexer, value)\n"
          ],
          "name": "stderr"
        }
      ]
    },
    {
      "cell_type": "code",
      "metadata": {
        "colab": {
          "base_uri": "https://localhost:8080/",
          "height": 198
        },
        "id": "uqhR9hL0Wz7X",
        "outputId": "5744f135-110a-4c80-98b2-cf4cc2e41dba"
      },
      "source": [
        "df.head()"
      ],
      "execution_count": 8,
      "outputs": [
        {
          "output_type": "execute_result",
          "data": {
            "text/html": [
              "<div>\n",
              "<style scoped>\n",
              "    .dataframe tbody tr th:only-of-type {\n",
              "        vertical-align: middle;\n",
              "    }\n",
              "\n",
              "    .dataframe tbody tr th {\n",
              "        vertical-align: top;\n",
              "    }\n",
              "\n",
              "    .dataframe thead th {\n",
              "        text-align: right;\n",
              "    }\n",
              "</style>\n",
              "<table border=\"1\" class=\"dataframe\">\n",
              "  <thead>\n",
              "    <tr style=\"text-align: right;\">\n",
              "      <th></th>\n",
              "      <th>0</th>\n",
              "      <th>nums</th>\n",
              "      <th>letter</th>\n",
              "      <th>code</th>\n",
              "      <th>low</th>\n",
              "      <th>high</th>\n",
              "      <th>letter2</th>\n",
              "    </tr>\n",
              "  </thead>\n",
              "  <tbody>\n",
              "    <tr>\n",
              "      <th>0</th>\n",
              "      <td>13-14 f: ffffffffnfffvv</td>\n",
              "      <td>13-14</td>\n",
              "      <td>f:</td>\n",
              "      <td>ffffffffnfffvv</td>\n",
              "      <td>13</td>\n",
              "      <td>14</td>\n",
              "      <td>f</td>\n",
              "    </tr>\n",
              "    <tr>\n",
              "      <th>1</th>\n",
              "      <td>10-12 w: kwtzpnzspwwwdz</td>\n",
              "      <td>10-12</td>\n",
              "      <td>w:</td>\n",
              "      <td>kwtzpnzspwwwdz</td>\n",
              "      <td>10</td>\n",
              "      <td>12</td>\n",
              "      <td>w</td>\n",
              "    </tr>\n",
              "    <tr>\n",
              "      <th>2</th>\n",
              "      <td>2-3 n: nnjn</td>\n",
              "      <td>2-3</td>\n",
              "      <td>n:</td>\n",
              "      <td>nnjn</td>\n",
              "      <td>2</td>\n",
              "      <td>3</td>\n",
              "      <td>n</td>\n",
              "    </tr>\n",
              "    <tr>\n",
              "      <th>3</th>\n",
              "      <td>2-3 h: hhhh</td>\n",
              "      <td>2-3</td>\n",
              "      <td>h:</td>\n",
              "      <td>hhhh</td>\n",
              "      <td>2</td>\n",
              "      <td>3</td>\n",
              "      <td>h</td>\n",
              "    </tr>\n",
              "    <tr>\n",
              "      <th>4</th>\n",
              "      <td>2-11 c: crccccccccsccc</td>\n",
              "      <td>2-11</td>\n",
              "      <td>c:</td>\n",
              "      <td>crccccccccsccc</td>\n",
              "      <td>2</td>\n",
              "      <td>11</td>\n",
              "      <td>c</td>\n",
              "    </tr>\n",
              "  </tbody>\n",
              "</table>\n",
              "</div>"
            ],
            "text/plain": [
              "                         0   nums letter            code low high letter2\n",
              "0  13-14 f: ffffffffnfffvv  13-14     f:  ffffffffnfffvv  13   14       f\n",
              "1  10-12 w: kwtzpnzspwwwdz  10-12     w:  kwtzpnzspwwwdz  10   12       w\n",
              "2              2-3 n: nnjn    2-3     n:            nnjn   2    3       n\n",
              "3              2-3 h: hhhh    2-3     h:            hhhh   2    3       h\n",
              "4   2-11 c: crccccccccsccc   2-11     c:  crccccccccsccc   2   11       c"
            ]
          },
          "metadata": {
            "tags": []
          },
          "execution_count": 8
        }
      ]
    },
    {
      "cell_type": "code",
      "metadata": {
        "id": "_NQudZe9W0up"
      },
      "source": [
        "df['count'] = 1"
      ],
      "execution_count": 9,
      "outputs": []
    },
    {
      "cell_type": "code",
      "metadata": {
        "colab": {
          "base_uri": "https://localhost:8080/"
        },
        "id": "1Z3O27L_c1yo",
        "outputId": "1a8d9352-4c02-4574-de6a-eb0452234cd0"
      },
      "source": [
        "for i in range(0, len(df['code'])):\n",
        "    df['count'][i] = df['code'][i].count(df['letter2'][i]) "
      ],
      "execution_count": 10,
      "outputs": [
        {
          "output_type": "stream",
          "text": [
            "/usr/local/lib/python3.6/dist-packages/ipykernel_launcher.py:2: SettingWithCopyWarning: \n",
            "A value is trying to be set on a copy of a slice from a DataFrame\n",
            "\n",
            "See the caveats in the documentation: https://pandas.pydata.org/pandas-docs/stable/user_guide/indexing.html#returning-a-view-versus-a-copy\n",
            "  \n"
          ],
          "name": "stderr"
        }
      ]
    },
    {
      "cell_type": "code",
      "metadata": {
        "colab": {
          "base_uri": "https://localhost:8080/",
          "height": 198
        },
        "id": "SDuBkU_4ebRb",
        "outputId": "7496624a-264d-4cb6-a831-bc544573c451"
      },
      "source": [
        "df.head()"
      ],
      "execution_count": 11,
      "outputs": [
        {
          "output_type": "execute_result",
          "data": {
            "text/html": [
              "<div>\n",
              "<style scoped>\n",
              "    .dataframe tbody tr th:only-of-type {\n",
              "        vertical-align: middle;\n",
              "    }\n",
              "\n",
              "    .dataframe tbody tr th {\n",
              "        vertical-align: top;\n",
              "    }\n",
              "\n",
              "    .dataframe thead th {\n",
              "        text-align: right;\n",
              "    }\n",
              "</style>\n",
              "<table border=\"1\" class=\"dataframe\">\n",
              "  <thead>\n",
              "    <tr style=\"text-align: right;\">\n",
              "      <th></th>\n",
              "      <th>0</th>\n",
              "      <th>nums</th>\n",
              "      <th>letter</th>\n",
              "      <th>code</th>\n",
              "      <th>low</th>\n",
              "      <th>high</th>\n",
              "      <th>letter2</th>\n",
              "      <th>count</th>\n",
              "    </tr>\n",
              "  </thead>\n",
              "  <tbody>\n",
              "    <tr>\n",
              "      <th>0</th>\n",
              "      <td>13-14 f: ffffffffnfffvv</td>\n",
              "      <td>13-14</td>\n",
              "      <td>f:</td>\n",
              "      <td>ffffffffnfffvv</td>\n",
              "      <td>13</td>\n",
              "      <td>14</td>\n",
              "      <td>f</td>\n",
              "      <td>11</td>\n",
              "    </tr>\n",
              "    <tr>\n",
              "      <th>1</th>\n",
              "      <td>10-12 w: kwtzpnzspwwwdz</td>\n",
              "      <td>10-12</td>\n",
              "      <td>w:</td>\n",
              "      <td>kwtzpnzspwwwdz</td>\n",
              "      <td>10</td>\n",
              "      <td>12</td>\n",
              "      <td>w</td>\n",
              "      <td>4</td>\n",
              "    </tr>\n",
              "    <tr>\n",
              "      <th>2</th>\n",
              "      <td>2-3 n: nnjn</td>\n",
              "      <td>2-3</td>\n",
              "      <td>n:</td>\n",
              "      <td>nnjn</td>\n",
              "      <td>2</td>\n",
              "      <td>3</td>\n",
              "      <td>n</td>\n",
              "      <td>3</td>\n",
              "    </tr>\n",
              "    <tr>\n",
              "      <th>3</th>\n",
              "      <td>2-3 h: hhhh</td>\n",
              "      <td>2-3</td>\n",
              "      <td>h:</td>\n",
              "      <td>hhhh</td>\n",
              "      <td>2</td>\n",
              "      <td>3</td>\n",
              "      <td>h</td>\n",
              "      <td>4</td>\n",
              "    </tr>\n",
              "    <tr>\n",
              "      <th>4</th>\n",
              "      <td>2-11 c: crccccccccsccc</td>\n",
              "      <td>2-11</td>\n",
              "      <td>c:</td>\n",
              "      <td>crccccccccsccc</td>\n",
              "      <td>2</td>\n",
              "      <td>11</td>\n",
              "      <td>c</td>\n",
              "      <td>12</td>\n",
              "    </tr>\n",
              "  </tbody>\n",
              "</table>\n",
              "</div>"
            ],
            "text/plain": [
              "                         0   nums letter  ... high letter2 count\n",
              "0  13-14 f: ffffffffnfffvv  13-14     f:  ...   14       f    11\n",
              "1  10-12 w: kwtzpnzspwwwdz  10-12     w:  ...   12       w     4\n",
              "2              2-3 n: nnjn    2-3     n:  ...    3       n     3\n",
              "3              2-3 h: hhhh    2-3     h:  ...    3       h     4\n",
              "4   2-11 c: crccccccccsccc   2-11     c:  ...   11       c    12\n",
              "\n",
              "[5 rows x 8 columns]"
            ]
          },
          "metadata": {
            "tags": []
          },
          "execution_count": 11
        }
      ]
    },
    {
      "cell_type": "code",
      "metadata": {
        "id": "wZqAYhPLY-vk"
      },
      "source": [
        "df['low'] = df['low'].astype('int32')\n",
        "df['high'] = df['high'].astype('int32')\n",
        "df['count'] = df['count'].astype('int32')"
      ],
      "execution_count": 12,
      "outputs": []
    },
    {
      "cell_type": "code",
      "metadata": {
        "id": "6xDSisZTbQQ4"
      },
      "source": [
        "count =0\n",
        "for i in range(0, len(df['low'])):\n",
        "    if (df['code'][i][df['low'][i]-1] == df['letter2'][i]) == True:\n",
        "        if (df['code'][i][df['high'][i]-1] == df['letter2'][i]) == False:\n",
        "            count += 1\n",
        "        else:\n",
        "            pass\n",
        "    elif (df['code'][i][df['high'][i]-1] == df['letter2'][i]) == True:\n",
        "        if (df['code'][i][df['low'][i]-1] == df['letter2'][i]) == False:\n",
        "            count += 1\n",
        "        else:\n",
        "            pass"
      ],
      "execution_count": 13,
      "outputs": []
    },
    {
      "cell_type": "code",
      "metadata": {
        "id": "_r72BZXMYcMh",
        "colab": {
          "base_uri": "https://localhost:8080/"
        },
        "outputId": "5335d27a-469d-4ffe-8bf8-35c96f9e9346"
      },
      "source": [
        "count"
      ],
      "execution_count": 14,
      "outputs": [
        {
          "output_type": "execute_result",
          "data": {
            "text/plain": [
              "404"
            ]
          },
          "metadata": {
            "tags": []
          },
          "execution_count": 14
        }
      ]
    }
  ]
}