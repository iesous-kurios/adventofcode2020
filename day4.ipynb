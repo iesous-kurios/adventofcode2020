{
  "nbformat": 4,
  "nbformat_minor": 0,
  "metadata": {
    "colab": {
      "name": "day4.ipynb",
      "provenance": [],
      "authorship_tag": "ABX9TyOqaBJXC3LxWy3wqM2uMjCs",
      "include_colab_link": true
    },
    "kernelspec": {
      "name": "python3",
      "display_name": "Python 3"
    }
  },
  "cells": [
    {
      "cell_type": "markdown",
      "metadata": {
        "id": "view-in-github",
        "colab_type": "text"
      },
      "source": [
        "<a href=\"https://colab.research.google.com/github/iesous-kurios/adventofcode2020/blob/main/day4.ipynb\" target=\"_parent\"><img src=\"https://colab.research.google.com/assets/colab-badge.svg\" alt=\"Open In Colab\"/></a>"
      ]
    },
    {
      "cell_type": "code",
      "metadata": {
        "id": "u5owSn9wxLIi"
      },
      "source": [
        "import pandas as pd\n",
        "import numpy as np\n",
        "\n",
        "df = pd.read_csv('/content/inputtest.csv', header=None)"
      ],
      "execution_count": 125,
      "outputs": []
    },
    {
      "cell_type": "code",
      "metadata": {
        "colab": {
          "base_uri": "https://localhost:8080/",
          "height": 198
        },
        "id": "APEoJNeeouUD",
        "outputId": "497f8fff-e1a8-4c8e-fe5d-e1f1248e0ab4"
      },
      "source": [
        "df.head()"
      ],
      "execution_count": 126,
      "outputs": [
        {
          "output_type": "execute_result",
          "data": {
            "text/html": [
              "<div>\n",
              "<style scoped>\n",
              "    .dataframe tbody tr th:only-of-type {\n",
              "        vertical-align: middle;\n",
              "    }\n",
              "\n",
              "    .dataframe tbody tr th {\n",
              "        vertical-align: top;\n",
              "    }\n",
              "\n",
              "    .dataframe thead th {\n",
              "        text-align: right;\n",
              "    }\n",
              "</style>\n",
              "<table border=\"1\" class=\"dataframe\">\n",
              "  <thead>\n",
              "    <tr style=\"text-align: right;\">\n",
              "      <th></th>\n",
              "      <th>0</th>\n",
              "    </tr>\n",
              "  </thead>\n",
              "  <tbody>\n",
              "    <tr>\n",
              "      <th>0</th>\n",
              "      <td>byr:2024 iyr:2016</td>\n",
              "    </tr>\n",
              "    <tr>\n",
              "      <th>1</th>\n",
              "      <td>eyr:2034 ecl:zzz pid:985592671 hcl:033b48</td>\n",
              "    </tr>\n",
              "    <tr>\n",
              "      <th>2</th>\n",
              "      <td>hgt:181 cid:166</td>\n",
              "    </tr>\n",
              "    <tr>\n",
              "      <th>3</th>\n",
              "      <td>hgt:66cm</td>\n",
              "    </tr>\n",
              "    <tr>\n",
              "      <th>4</th>\n",
              "      <td>pid:152cm</td>\n",
              "    </tr>\n",
              "  </tbody>\n",
              "</table>\n",
              "</div>"
            ],
            "text/plain": [
              "                                           0\n",
              "0                          byr:2024 iyr:2016\n",
              "1  eyr:2034 ecl:zzz pid:985592671 hcl:033b48\n",
              "2                            hgt:181 cid:166\n",
              "3                                   hgt:66cm\n",
              "4                                  pid:152cm"
            ]
          },
          "metadata": {
            "tags": []
          },
          "execution_count": 126
        }
      ]
    },
    {
      "cell_type": "code",
      "metadata": {
        "id": "4CMT4I_J4nu_"
      },
      "source": [
        "valid = []\n",
        "for i in range(0, len(df[0])):\n",
        "    myString = df[0][i]\n",
        "    if 'byr' in myString and 'iyr' in myString and 'eyr' in myString and 'hgt' in myString and 'hcl' in myString and 'ecl' in myString and 'pid' in myString and 'cid' in myString:\n",
        "        valid.append(myString)\n",
        "\n",
        "\n",
        "\n",
        "\n"
      ],
      "execution_count": 129,
      "outputs": []
    },
    {
      "cell_type": "code",
      "metadata": {
        "colab": {
          "base_uri": "https://localhost:8080/"
        },
        "id": "GokyU2v191p7",
        "outputId": "42e35f87-aa44-4876-cace-80afcf20d4a0"
      },
      "source": [
        "len(valid)"
      ],
      "execution_count": 130,
      "outputs": [
        {
          "output_type": "execute_result",
          "data": {
            "text/plain": [
              "10"
            ]
          },
          "metadata": {
            "tags": []
          },
          "execution_count": 130
        }
      ]
    },
    {
      "cell_type": "code",
      "metadata": {
        "colab": {
          "base_uri": "https://localhost:8080/"
        },
        "id": "xvgbKY926Kmf",
        "outputId": "438c3a95-144f-44f3-b80c-c63e3a11e02d"
      },
      "source": [
        "import re\n",
        "\n",
        "valid = []\n",
        "\n",
        "patterns = ['byr', 'iyr','eyr', 'hgt', 'hcl', 'ecl', 'pid']\n",
        "\n",
        "\n",
        "\n",
        "x = re.findall(\"['byriyreyrhgthcleclpid']\", myArray[0])\n",
        "\n",
        "print(x)"
      ],
      "execution_count": 118,
      "outputs": [
        {
          "output_type": "stream",
          "text": [
            "['b', 'y', 'r', 'i', 'y', 'r']\n"
          ],
          "name": "stdout"
        }
      ]
    },
    {
      "cell_type": "code",
      "metadata": {
        "colab": {
          "base_uri": "https://localhost:8080/",
          "height": 207
        },
        "id": "JAhGZhRY4ZdA",
        "outputId": "fa8cf783-e84c-45b2-ed33-24ecde0dcc3b"
      },
      "source": [
        " \n",
        "if df[0].str.contains('byr').any():\n",
        "    print(\"TX is there\")"
      ],
      "execution_count": 82,
      "outputs": [
        {
          "output_type": "error",
          "ename": "AttributeError",
          "evalue": "ignored",
          "traceback": [
            "\u001b[0;31m---------------------------------------------------------------------------\u001b[0m",
            "\u001b[0;31mAttributeError\u001b[0m                            Traceback (most recent call last)",
            "\u001b[0;32m<ipython-input-82-3f63350051a7>\u001b[0m in \u001b[0;36m<module>\u001b[0;34m()\u001b[0m\n\u001b[1;32m      1\u001b[0m \u001b[0;34m\u001b[0m\u001b[0m\n\u001b[0;32m----> 2\u001b[0;31m \u001b[0;32mif\u001b[0m \u001b[0mdf\u001b[0m\u001b[0;34m[\u001b[0m\u001b[0;36m0\u001b[0m\u001b[0;34m]\u001b[0m\u001b[0;34m[\u001b[0m\u001b[0;36m0\u001b[0m\u001b[0;34m]\u001b[0m\u001b[0;34m.\u001b[0m\u001b[0mstr\u001b[0m\u001b[0;34m.\u001b[0m\u001b[0mcontains\u001b[0m\u001b[0;34m(\u001b[0m\u001b[0;34m'byr'\u001b[0m\u001b[0;34m)\u001b[0m\u001b[0;34m.\u001b[0m\u001b[0many\u001b[0m\u001b[0;34m(\u001b[0m\u001b[0;34m)\u001b[0m\u001b[0;34m:\u001b[0m\u001b[0;34m\u001b[0m\u001b[0;34m\u001b[0m\u001b[0m\n\u001b[0m\u001b[1;32m      3\u001b[0m    \u001b[0mprint\u001b[0m\u001b[0;34m(\u001b[0m\u001b[0;34m\"TX is there\"\u001b[0m\u001b[0;34m)\u001b[0m\u001b[0;34m\u001b[0m\u001b[0;34m\u001b[0m\u001b[0m\n",
            "\u001b[0;31mAttributeError\u001b[0m: 'str' object has no attribute 'str'"
          ]
        }
      ]
    },
    {
      "cell_type": "code",
      "metadata": {
        "colab": {
          "base_uri": "https://localhost:8080/",
          "height": 171
        },
        "id": "SZ_qFTMD32VB",
        "outputId": "f5f60a4a-beb8-4aed-cf5f-9c1bea89eee6"
      },
      "source": [
        "['byr', 'iyr', 'eyr'] in df[0][0]"
      ],
      "execution_count": 80,
      "outputs": [
        {
          "output_type": "error",
          "ename": "TypeError",
          "evalue": "ignored",
          "traceback": [
            "\u001b[0;31m---------------------------------------------------------------------------\u001b[0m",
            "\u001b[0;31mTypeError\u001b[0m                                 Traceback (most recent call last)",
            "\u001b[0;32m<ipython-input-80-cccf4c3c9220>\u001b[0m in \u001b[0;36m<module>\u001b[0;34m()\u001b[0m\n\u001b[0;32m----> 1\u001b[0;31m \u001b[0;34m[\u001b[0m\u001b[0;34m'byr'\u001b[0m\u001b[0;34m,\u001b[0m \u001b[0;34m'iyr'\u001b[0m\u001b[0;34m,\u001b[0m \u001b[0;34m'eyr'\u001b[0m\u001b[0;34m]\u001b[0m \u001b[0;32min\u001b[0m \u001b[0mdf\u001b[0m\u001b[0;34m[\u001b[0m\u001b[0;36m0\u001b[0m\u001b[0;34m]\u001b[0m\u001b[0;34m[\u001b[0m\u001b[0;36m0\u001b[0m\u001b[0;34m]\u001b[0m\u001b[0;34m\u001b[0m\u001b[0;34m\u001b[0m\u001b[0m\n\u001b[0m",
            "\u001b[0;31mTypeError\u001b[0m: 'in <string>' requires string as left operand, not list"
          ]
        }
      ]
    },
    {
      "cell_type": "code",
      "metadata": {
        "colab": {
          "base_uri": "https://localhost:8080/",
          "height": 322
        },
        "id": "Am01w2Zd3Rt0",
        "outputId": "72fbad23-71b9-40d8-cc56-06170b2052a9"
      },
      "source": [
        "(df[0] == ['byr', 'iyr','eyr', 'hgt', 'hcl', 'ecl', 'pid']).all()"
      ],
      "execution_count": 73,
      "outputs": [
        {
          "output_type": "error",
          "ename": "ValueError",
          "evalue": "ignored",
          "traceback": [
            "\u001b[0;31m---------------------------------------------------------------------------\u001b[0m",
            "\u001b[0;31mValueError\u001b[0m                                Traceback (most recent call last)",
            "\u001b[0;32m<ipython-input-73-2e4faa13c45b>\u001b[0m in \u001b[0;36m<module>\u001b[0;34m()\u001b[0m\n\u001b[0;32m----> 1\u001b[0;31m \u001b[0;34m(\u001b[0m\u001b[0mdf\u001b[0m\u001b[0;34m[\u001b[0m\u001b[0;36m0\u001b[0m\u001b[0;34m]\u001b[0m \u001b[0;34m==\u001b[0m \u001b[0;34m[\u001b[0m\u001b[0;34m'byr'\u001b[0m\u001b[0;34m,\u001b[0m \u001b[0;34m'iyr'\u001b[0m\u001b[0;34m,\u001b[0m\u001b[0;34m'eyr'\u001b[0m\u001b[0;34m,\u001b[0m \u001b[0;34m'hgt'\u001b[0m\u001b[0;34m,\u001b[0m \u001b[0;34m'hcl'\u001b[0m\u001b[0;34m,\u001b[0m \u001b[0;34m'ecl'\u001b[0m\u001b[0;34m,\u001b[0m \u001b[0;34m'pid'\u001b[0m\u001b[0;34m]\u001b[0m\u001b[0;34m)\u001b[0m\u001b[0;34m.\u001b[0m\u001b[0mall\u001b[0m\u001b[0;34m(\u001b[0m\u001b[0;34m)\u001b[0m\u001b[0;34m\u001b[0m\u001b[0;34m\u001b[0m\u001b[0m\n\u001b[0m",
            "\u001b[0;32m/usr/local/lib/python3.6/dist-packages/pandas/core/ops/common.py\u001b[0m in \u001b[0;36mnew_method\u001b[0;34m(self, other)\u001b[0m\n\u001b[1;32m     63\u001b[0m         \u001b[0mother\u001b[0m \u001b[0;34m=\u001b[0m \u001b[0mitem_from_zerodim\u001b[0m\u001b[0;34m(\u001b[0m\u001b[0mother\u001b[0m\u001b[0;34m)\u001b[0m\u001b[0;34m\u001b[0m\u001b[0;34m\u001b[0m\u001b[0m\n\u001b[1;32m     64\u001b[0m \u001b[0;34m\u001b[0m\u001b[0m\n\u001b[0;32m---> 65\u001b[0;31m         \u001b[0;32mreturn\u001b[0m \u001b[0mmethod\u001b[0m\u001b[0;34m(\u001b[0m\u001b[0mself\u001b[0m\u001b[0;34m,\u001b[0m \u001b[0mother\u001b[0m\u001b[0;34m)\u001b[0m\u001b[0;34m\u001b[0m\u001b[0;34m\u001b[0m\u001b[0m\n\u001b[0m\u001b[1;32m     66\u001b[0m \u001b[0;34m\u001b[0m\u001b[0m\n\u001b[1;32m     67\u001b[0m     \u001b[0;32mreturn\u001b[0m \u001b[0mnew_method\u001b[0m\u001b[0;34m\u001b[0m\u001b[0;34m\u001b[0m\u001b[0m\n",
            "\u001b[0;32m/usr/local/lib/python3.6/dist-packages/pandas/core/ops/__init__.py\u001b[0m in \u001b[0;36mwrapper\u001b[0;34m(self, other)\u001b[0m\n\u001b[1;32m    368\u001b[0m         \u001b[0mrvalues\u001b[0m \u001b[0;34m=\u001b[0m \u001b[0mextract_array\u001b[0m\u001b[0;34m(\u001b[0m\u001b[0mother\u001b[0m\u001b[0;34m,\u001b[0m \u001b[0mextract_numpy\u001b[0m\u001b[0;34m=\u001b[0m\u001b[0;32mTrue\u001b[0m\u001b[0;34m)\u001b[0m\u001b[0;34m\u001b[0m\u001b[0;34m\u001b[0m\u001b[0m\n\u001b[1;32m    369\u001b[0m \u001b[0;34m\u001b[0m\u001b[0m\n\u001b[0;32m--> 370\u001b[0;31m         \u001b[0mres_values\u001b[0m \u001b[0;34m=\u001b[0m \u001b[0mcomparison_op\u001b[0m\u001b[0;34m(\u001b[0m\u001b[0mlvalues\u001b[0m\u001b[0;34m,\u001b[0m \u001b[0mrvalues\u001b[0m\u001b[0;34m,\u001b[0m \u001b[0mop\u001b[0m\u001b[0;34m)\u001b[0m\u001b[0;34m\u001b[0m\u001b[0;34m\u001b[0m\u001b[0m\n\u001b[0m\u001b[1;32m    371\u001b[0m \u001b[0;34m\u001b[0m\u001b[0m\n\u001b[1;32m    372\u001b[0m         \u001b[0;32mreturn\u001b[0m \u001b[0mself\u001b[0m\u001b[0;34m.\u001b[0m\u001b[0m_construct_result\u001b[0m\u001b[0;34m(\u001b[0m\u001b[0mres_values\u001b[0m\u001b[0;34m,\u001b[0m \u001b[0mname\u001b[0m\u001b[0;34m=\u001b[0m\u001b[0mres_name\u001b[0m\u001b[0;34m)\u001b[0m\u001b[0;34m\u001b[0m\u001b[0;34m\u001b[0m\u001b[0m\n",
            "\u001b[0;32m/usr/local/lib/python3.6/dist-packages/pandas/core/ops/array_ops.py\u001b[0m in \u001b[0;36mcomparison_op\u001b[0;34m(left, right, op)\u001b[0m\n\u001b[1;32m    223\u001b[0m         \u001b[0;32mif\u001b[0m \u001b[0mlen\u001b[0m\u001b[0;34m(\u001b[0m\u001b[0mlvalues\u001b[0m\u001b[0;34m)\u001b[0m \u001b[0;34m!=\u001b[0m \u001b[0mlen\u001b[0m\u001b[0;34m(\u001b[0m\u001b[0mrvalues\u001b[0m\u001b[0;34m)\u001b[0m\u001b[0;34m:\u001b[0m\u001b[0;34m\u001b[0m\u001b[0;34m\u001b[0m\u001b[0m\n\u001b[1;32m    224\u001b[0m             raise ValueError(\n\u001b[0;32m--> 225\u001b[0;31m                 \u001b[0;34m\"Lengths must match to compare\"\u001b[0m\u001b[0;34m,\u001b[0m \u001b[0mlvalues\u001b[0m\u001b[0;34m.\u001b[0m\u001b[0mshape\u001b[0m\u001b[0;34m,\u001b[0m \u001b[0mrvalues\u001b[0m\u001b[0;34m.\u001b[0m\u001b[0mshape\u001b[0m\u001b[0;34m\u001b[0m\u001b[0;34m\u001b[0m\u001b[0m\n\u001b[0m\u001b[1;32m    226\u001b[0m             )\n\u001b[1;32m    227\u001b[0m \u001b[0;34m\u001b[0m\u001b[0m\n",
            "\u001b[0;31mValueError\u001b[0m: ('Lengths must match to compare', (871,), (7,))"
          ]
        }
      ]
    },
    {
      "cell_type": "code",
      "metadata": {
        "id": "SfWY5BFToxJj"
      },
      "source": [
        "df[['1', '2', '3', '4', '5', '6', '7', '8']] = df[0].str.split(' ', expand=True)"
      ],
      "execution_count": 4,
      "outputs": []
    },
    {
      "cell_type": "code",
      "metadata": {
        "id": "7iAlcxXIpB-C"
      },
      "source": [
        "df = df[['1', '2', '3', '4', '5', '6', '7', '8']]"
      ],
      "execution_count": 10,
      "outputs": []
    },
    {
      "cell_type": "code",
      "metadata": {
        "colab": {
          "base_uri": "https://localhost:8080/",
          "height": 198
        },
        "id": "xzVO3bOipdrh",
        "outputId": "94f6482c-a6b3-4901-cc21-5828f36ac95a"
      },
      "source": [
        "df.head()"
      ],
      "execution_count": 11,
      "outputs": [
        {
          "output_type": "execute_result",
          "data": {
            "text/html": [
              "<div>\n",
              "<style scoped>\n",
              "    .dataframe tbody tr th:only-of-type {\n",
              "        vertical-align: middle;\n",
              "    }\n",
              "\n",
              "    .dataframe tbody tr th {\n",
              "        vertical-align: top;\n",
              "    }\n",
              "\n",
              "    .dataframe thead th {\n",
              "        text-align: right;\n",
              "    }\n",
              "</style>\n",
              "<table border=\"1\" class=\"dataframe\">\n",
              "  <thead>\n",
              "    <tr style=\"text-align: right;\">\n",
              "      <th></th>\n",
              "      <th>1</th>\n",
              "      <th>2</th>\n",
              "      <th>3</th>\n",
              "      <th>4</th>\n",
              "      <th>5</th>\n",
              "      <th>6</th>\n",
              "      <th>7</th>\n",
              "      <th>8</th>\n",
              "    </tr>\n",
              "  </thead>\n",
              "  <tbody>\n",
              "    <tr>\n",
              "      <th>0</th>\n",
              "      <td>byr:2024</td>\n",
              "      <td>iyr:2016</td>\n",
              "      <td>None</td>\n",
              "      <td>None</td>\n",
              "      <td>None</td>\n",
              "      <td>None</td>\n",
              "      <td>None</td>\n",
              "      <td>None</td>\n",
              "    </tr>\n",
              "    <tr>\n",
              "      <th>1</th>\n",
              "      <td>eyr:2034</td>\n",
              "      <td>ecl:zzz</td>\n",
              "      <td>pid:985592671</td>\n",
              "      <td>hcl:033b48</td>\n",
              "      <td>None</td>\n",
              "      <td>None</td>\n",
              "      <td>None</td>\n",
              "      <td>None</td>\n",
              "    </tr>\n",
              "    <tr>\n",
              "      <th>2</th>\n",
              "      <td>hgt:181</td>\n",
              "      <td>cid:166</td>\n",
              "      <td>None</td>\n",
              "      <td>None</td>\n",
              "      <td>None</td>\n",
              "      <td>None</td>\n",
              "      <td>None</td>\n",
              "      <td>None</td>\n",
              "    </tr>\n",
              "    <tr>\n",
              "      <th>3</th>\n",
              "      <td>hgt:66cm</td>\n",
              "      <td>None</td>\n",
              "      <td>None</td>\n",
              "      <td>None</td>\n",
              "      <td>None</td>\n",
              "      <td>None</td>\n",
              "      <td>None</td>\n",
              "      <td>None</td>\n",
              "    </tr>\n",
              "    <tr>\n",
              "      <th>4</th>\n",
              "      <td>pid:152cm</td>\n",
              "      <td>None</td>\n",
              "      <td>None</td>\n",
              "      <td>None</td>\n",
              "      <td>None</td>\n",
              "      <td>None</td>\n",
              "      <td>None</td>\n",
              "      <td>None</td>\n",
              "    </tr>\n",
              "  </tbody>\n",
              "</table>\n",
              "</div>"
            ],
            "text/plain": [
              "           1         2              3           4     5     6     7     8\n",
              "0   byr:2024  iyr:2016           None        None  None  None  None  None\n",
              "1   eyr:2034   ecl:zzz  pid:985592671  hcl:033b48  None  None  None  None\n",
              "2    hgt:181   cid:166           None        None  None  None  None  None\n",
              "3   hgt:66cm      None           None        None  None  None  None  None\n",
              "4  pid:152cm      None           None        None  None  None  None  None"
            ]
          },
          "metadata": {
            "tags": []
          },
          "execution_count": 11
        }
      ]
    },
    {
      "cell_type": "code",
      "metadata": {
        "colab": {
          "base_uri": "https://localhost:8080/",
          "height": 35
        },
        "id": "uu9AgdTapg0C",
        "outputId": "d15d606e-50cf-467a-f668-c04a5302dd90"
      },
      "source": [
        "df['1'][0]"
      ],
      "execution_count": 27,
      "outputs": [
        {
          "output_type": "execute_result",
          "data": {
            "application/vnd.google.colaboratory.intrinsic+json": {
              "type": "string"
            },
            "text/plain": [
              "'byr:2024'"
            ]
          },
          "metadata": {
            "tags": []
          },
          "execution_count": 27
        }
      ]
    },
    {
      "cell_type": "code",
      "metadata": {
        "id": "snDAWwP0qAnR"
      },
      "source": [
        "myArray = []\n",
        "for i in range(0, len(df[0])):\n",
        "    myArray.append(str(df[0][i]))"
      ],
      "execution_count": 102,
      "outputs": []
    },
    {
      "cell_type": "code",
      "metadata": {
        "colab": {
          "base_uri": "https://localhost:8080/",
          "height": 35
        },
        "id": "3XkpsR2a0l00",
        "outputId": "9926f808-9cb7-47eb-d5cd-54d64403244a"
      },
      "source": [
        "myArray[0]"
      ],
      "execution_count": 58,
      "outputs": [
        {
          "output_type": "execute_result",
          "data": {
            "application/vnd.google.colaboratory.intrinsic+json": {
              "type": "string"
            },
            "text/plain": [
              "'byr:2024 iyr:2016'"
            ]
          },
          "metadata": {
            "tags": []
          },
          "execution_count": 58
        }
      ]
    },
    {
      "cell_type": "code",
      "metadata": {
        "colab": {
          "base_uri": "https://localhost:8080/",
          "height": 244
        },
        "id": "07Rge9XZ0IxG",
        "outputId": "61faa3ae-e328-43a2-9c95-6b4fc51c5fff"
      },
      "source": [
        "expected = ['byr', 'iyr','eyr', 'hgt', 'hcl', 'ecl', 'pid']\n",
        "\n",
        "validArray = []\n",
        "for i in range(0, len(myArray)):\n",
        "    if myArray[i].contains(expected):\n",
        "        validArray.append(myArray[i])\n",
        "        "
      ],
      "execution_count": 69,
      "outputs": [
        {
          "output_type": "error",
          "ename": "AttributeError",
          "evalue": "ignored",
          "traceback": [
            "\u001b[0;31m---------------------------------------------------------------------------\u001b[0m",
            "\u001b[0;31mAttributeError\u001b[0m                            Traceback (most recent call last)",
            "\u001b[0;32m<ipython-input-69-10acc4cc4d08>\u001b[0m in \u001b[0;36m<module>\u001b[0;34m()\u001b[0m\n\u001b[1;32m      3\u001b[0m \u001b[0mvalidArray\u001b[0m \u001b[0;34m=\u001b[0m \u001b[0;34m[\u001b[0m\u001b[0;34m]\u001b[0m\u001b[0;34m\u001b[0m\u001b[0;34m\u001b[0m\u001b[0m\n\u001b[1;32m      4\u001b[0m \u001b[0;32mfor\u001b[0m \u001b[0mi\u001b[0m \u001b[0;32min\u001b[0m \u001b[0mrange\u001b[0m\u001b[0;34m(\u001b[0m\u001b[0;36m0\u001b[0m\u001b[0;34m,\u001b[0m \u001b[0mlen\u001b[0m\u001b[0;34m(\u001b[0m\u001b[0mmyArray\u001b[0m\u001b[0;34m)\u001b[0m\u001b[0;34m)\u001b[0m\u001b[0;34m:\u001b[0m\u001b[0;34m\u001b[0m\u001b[0;34m\u001b[0m\u001b[0m\n\u001b[0;32m----> 5\u001b[0;31m     \u001b[0;32mif\u001b[0m \u001b[0mmyArray\u001b[0m\u001b[0;34m[\u001b[0m\u001b[0mi\u001b[0m\u001b[0;34m]\u001b[0m\u001b[0;34m.\u001b[0m\u001b[0mcontains\u001b[0m\u001b[0;34m(\u001b[0m\u001b[0mexpected\u001b[0m\u001b[0;34m)\u001b[0m\u001b[0;34m:\u001b[0m\u001b[0;34m\u001b[0m\u001b[0;34m\u001b[0m\u001b[0m\n\u001b[0m\u001b[1;32m      6\u001b[0m         \u001b[0mvalidArray\u001b[0m\u001b[0;34m.\u001b[0m\u001b[0mappend\u001b[0m\u001b[0;34m(\u001b[0m\u001b[0mmyArray\u001b[0m\u001b[0;34m[\u001b[0m\u001b[0mi\u001b[0m\u001b[0;34m]\u001b[0m\u001b[0;34m)\u001b[0m\u001b[0;34m\u001b[0m\u001b[0;34m\u001b[0m\u001b[0m\n\u001b[1;32m      7\u001b[0m \u001b[0;34m\u001b[0m\u001b[0m\n",
            "\u001b[0;31mAttributeError\u001b[0m: 'str' object has no attribute 'contains'"
          ]
        }
      ]
    },
    {
      "cell_type": "code",
      "metadata": {
        "colab": {
          "base_uri": "https://localhost:8080/"
        },
        "id": "tgjUqOWO1XZV",
        "outputId": "6d199c21-1e0c-4858-8c69-2227f95f9265"
      },
      "source": [
        "len(myArray)"
      ],
      "execution_count": 61,
      "outputs": [
        {
          "output_type": "execute_result",
          "data": {
            "text/plain": [
              "871"
            ]
          },
          "metadata": {
            "tags": []
          },
          "execution_count": 61
        }
      ]
    },
    {
      "cell_type": "code",
      "metadata": {
        "colab": {
          "base_uri": "https://localhost:8080/"
        },
        "id": "Qzq1PI3J1Zej",
        "outputId": "821d2329-a233-4fbd-a211-54e56f2d49de"
      },
      "source": [
        "len(validArray)"
      ],
      "execution_count": 68,
      "outputs": [
        {
          "output_type": "execute_result",
          "data": {
            "text/plain": [
              "0"
            ]
          },
          "metadata": {
            "tags": []
          },
          "execution_count": 68
        }
      ]
    },
    {
      "cell_type": "code",
      "metadata": {
        "id": "ZY4fGdD_1i9k"
      },
      "source": [
        "validArray"
      ],
      "execution_count": null,
      "outputs": []
    },
    {
      "cell_type": "code",
      "metadata": {
        "colab": {
          "base_uri": "https://localhost:8080/",
          "height": 171
        },
        "id": "Wjlky1F3qL5w",
        "outputId": "58a36b2c-98ee-49b8-c850-c1edaa3b185a"
      },
      "source": [
        "byr (Birth Year)\n",
        "iyr (Issue Year)\n",
        "eyr (Expiration Year)\n",
        "hgt (Height)\n",
        "hcl (Hair Color)\n",
        "ecl (Eye Color)\n",
        "pid (Passport ID)\n",
        "cid (Country ID)"
      ],
      "execution_count": 39,
      "outputs": [
        {
          "output_type": "error",
          "ename": "AttributeError",
          "evalue": "ignored",
          "traceback": [
            "\u001b[0;31m---------------------------------------------------------------------------\u001b[0m",
            "\u001b[0;31mAttributeError\u001b[0m                            Traceback (most recent call last)",
            "\u001b[0;32m<ipython-input-39-1d6edade63a1>\u001b[0m in \u001b[0;36m<module>\u001b[0;34m()\u001b[0m\n\u001b[0;32m----> 1\u001b[0;31m \u001b[0mstr\u001b[0m\u001b[0;34m(\u001b[0m\u001b[0mmyArray\u001b[0m\u001b[0;34m[\u001b[0m\u001b[0;36m0\u001b[0m\u001b[0;34m]\u001b[0m\u001b[0;34m)\u001b[0m\u001b[0;34m.\u001b[0m\u001b[0mcontains\u001b[0m\u001b[0;34m(\u001b[0m\u001b[0;34m'byr'\u001b[0m\u001b[0;34m)\u001b[0m\u001b[0;34m\u001b[0m\u001b[0;34m\u001b[0m\u001b[0m\n\u001b[0m",
            "\u001b[0;31mAttributeError\u001b[0m: 'str' object has no attribute 'contains'"
          ]
        }
      ]
    },
    {
      "cell_type": "code",
      "metadata": {
        "id": "5QPUOj8ra3sK"
      },
      "source": [
        ""
      ],
      "execution_count": null,
      "outputs": []
    },
    {
      "cell_type": "code",
      "metadata": {
        "id": "lt7VZ8nYa3wI"
      },
      "source": [
        "f = open('/content/input4.txt')"
      ],
      "execution_count": 180,
      "outputs": []
    },
    {
      "cell_type": "code",
      "metadata": {
        "id": "0LYlOEaxbArH"
      },
      "source": [
        "content = f.read()"
      ],
      "execution_count": 181,
      "outputs": []
    },
    {
      "cell_type": "code",
      "metadata": {
        "colab": {
          "base_uri": "https://localhost:8080/",
          "height": 126
        },
        "id": "ipeH7VwgmHoM",
        "outputId": "4501456e-1661-422b-8d26-f8fd54927a24"
      },
      "source": [
        "content"
      ],
      "execution_count": 185,
      "outputs": [
        {
          "output_type": "execute_result",
          "data": {
            "application/vnd.google.colaboratory.intrinsic+json": {
              "type": "string"
            },
            "text/plain": [
              "'byr:2024 iyr:2016\\neyr:2034 ecl:zzz pid:985592671 hcl:033b48\\nhgt:181 cid:166\\n\\nhgt:66cm\\npid:152cm\\nhcl:cfb18a eyr:1947\\nbyr:2020 ecl:zzz iyr:2029\\n\\necl:gry hcl:#888785 eyr:2023 cid:63\\niyr:2019 hgt:177cm\\npid:656793259\\n\\npid:#5e832a\\necl:dne hcl:#7d3b0c byr:2018 eyr:1928 hgt:61cm iyr:1936 cid:241\\n\\nhcl:#888785 ecl:oth eyr:2025\\npid:597580472\\niyr:2017 hgt:187cm byr:1957 cid:247\\n\\neyr:2029 cid:145 iyr:2026 pid:178cm hgt:162in ecl:gry\\nhcl:#a5d09f byr:2002\\n\\neyr:2024\\necl:amb\\npid:349191561 iyr:2018 hgt:156cm byr:1972\\nhcl:#341e13\\n\\nbyr:1998 pid:408617933\\nhcl:#fffffd hgt:193cm eyr:2021 ecl:brn iyr:2013\\n\\neyr:1964 byr:2026\\nhcl:#cfa07d hgt:154cm pid:175cm cid:85 iyr:2018 ecl:gmt\\n\\nhgt:161cm\\npid:021086946\\niyr:2020 ecl:blu eyr:2024\\nbyr:1921\\n\\npid:173cm cid:235 eyr:1935 iyr:1952 ecl:utc byr:2015 hgt:187\\nhcl:6239ed\\n\\niyr:2015 hcl:#18171d pid:2691566700 ecl:gmt hgt:68cm eyr:2032 byr:2016\\ncid:341\\n\\nhcl:#c0946f\\niyr:2010 pid:941290886 eyr:2023 ecl:brn\\nhgt:190cm\\nbyr:1927\\n\\npid:423210256 eyr:2026 iyr:2011 byr:1926 hcl:#efcc98\\necl:grn\\nhgt:185cm cid:135\\n\\necl:blu eyr:2030\\nbyr:1996 hgt:154cm iyr:2019 pid:809421142\\nhcl:#b6652a\\ncid:250\\n\\nhcl:39615c iyr:1934 byr:2009 pid:7752456272 hgt:191cm\\neyr:2024 ecl:#5b7a58\\n\\niyr:1938 hgt:160in hcl:#623a2f eyr:2031\\necl:grn pid:169cm byr:1964\\n\\necl:grt byr:2004 hcl:026249 hgt:176in iyr:1933 eyr:2023\\npid:176cm\\n\\nhgt:167cm\\npid:023312072 ecl:oth iyr:2018 hcl:#866857 eyr:2024 byr:1994\\n\\nhcl:#c0946f\\necl:blu iyr:2016\\neyr:2023 hgt:193cm\\npid:190756361 byr:1943\\ncid:306\\n\\niyr:2013 hgt:179cm ecl:oth\\ncid:290 eyr:2020 pid:953948851\\nhcl:#6b5442\\nbyr:1973\\n\\npid:795414848\\ncid:51\\necl:oth iyr:2020 hcl:#ceb3a1 eyr:2026 byr:1995 hgt:186cm\\n\\niyr:2020\\nbyr:1993 hgt:159cm pid:905121332\\necl:brn eyr:2023\\nhcl:#341e13\\n\\necl:hzl iyr:2017 eyr:2020 hcl:z byr:2003 hgt:163\\n\\neyr:2038\\ncid:342 hgt:116 iyr:2019 hcl:73db63 byr:1973 ecl:gry pid:468207739\\n\\npid:022772899 eyr:2040 hgt:181cm\\necl:dne\\nhcl:#866857\\nbyr:1931 iyr:2012\\n\\npid:36127238 eyr:2038 cid:227 iyr:1985 hgt:103 byr:2004\\nhcl:z ecl:#45a680\\n\\nhgt:183cm\\niyr:2013 byr:1933 cid:112\\neyr:2024 pid:795616425\\nhcl:#7d3b0c\\necl:gry\\n\\ncid:236 byr:1985 hgt:160cm\\nhcl:#6b5442 eyr:2028\\necl:gmt pid:277781460 iyr:2018\\n\\necl:amb\\nbyr:1948 pid:750948701 eyr:2025 iyr:2013 hgt:62in hcl:#7d3b0c\\n\\neyr:2029 iyr:2020 pid:385941629 byr:1998 hgt:153cm cid:321\\nhcl:#623a2f\\n\\nbyr:1966 hgt:69in iyr:2012\\npid:423254216\\neyr:2020 hcl:#602927 ecl:blu\\n\\nbyr:2004 pid:14257358 cid:338 iyr:2010\\necl:gry\\nhcl:#602927\\nhgt:152cm\\n\\necl:gry eyr:2027 hcl:#341e13\\niyr:2018 pid:298762877 hgt:162cm byr:1968\\n\\nhcl:#ceb3a1\\niyr:2019 ecl:brn eyr:2020 pid:575413143 byr:2030 hgt:185cm\\ncid:159\\n\\neyr:2025 pid:628251539 ecl:blu byr:1953 hgt:63in hcl:#18171d iyr:2016\\n\\npid:973247326 byr:1925 hcl:#341e13 ecl:grn eyr:2028 hgt:156cm\\niyr:2014\\n\\nbyr:1957 hgt:154cm\\nhcl:#7d3b0c\\npid:062760305 eyr:2023 ecl:brn\\niyr:2012\\n\\necl:brn eyr:2029\\ncid:250\\npid:477431667 hgt:177cm\\nbyr:1993 iyr:2020 hcl:#ceb3a1\\n\\npid:155471269 iyr:2010 byr:1985 hgt:169cm eyr:2026 hcl:#694b7d cid:337 ecl:gry\\n\\necl:grt hgt:152in byr:2012\\npid:#b9d022 iyr:2030\\neyr:2037 hcl:z cid:201\\n\\nhcl:9270b3 eyr:2028\\nhgt:71cm iyr:2017 pid:#6c7af7 ecl:grn byr:1971\\n\\npid:#0ab7e1 hgt:166cm byr:1929\\ncid:289\\nhcl:#623a2f iyr:2005\\necl:amb\\n\\npid:967754435\\nhgt:175cm hcl:#341e13 ecl:utc iyr:2023 eyr:1949 byr:1988\\n\\nbyr:1942 ecl:brn eyr:2023 pid:898126666 hgt:182cm cid:138\\nhcl:#866857\\niyr:2010\\n\\neyr:2027 iyr:2019 byr:1953 pid:760664328 hcl:#b6652a\\necl:grn hgt:155cm\\n\\niyr:2018\\necl:brn hcl:#18171d pid:953129359 hgt:167cm eyr:2030 byr:1974\\n\\ncid:77\\npid:975070417 hcl:#b6652a ecl:amb iyr:2013 byr:1995\\neyr:2025 hgt:184cm\\n\\nhgt:168cm\\neyr:2026 byr:1938 ecl:gry pid:037135813 hcl:#6b5442\\niyr:2010\\n\\niyr:2017 hcl:4cc74b byr:1980 hgt:176in\\npid:460622356 ecl:xry eyr:2030\\n\\nhcl:z\\necl:oth pid:872514537 hgt:175in eyr:1984 iyr:2011 cid:145 byr:2024\\n\\niyr:2014 ecl:blu\\npid:332729196 hgt:63in\\neyr:2020\\nhcl:#602927\\n\\nhcl:#7d3b0c pid:369981570 byr:1996 ecl:gry\\neyr:2024 iyr:2017\\n\\npid:446117373 hgt:158cm\\niyr:2010 ecl:gry eyr:2024 hcl:#e54715\\n\\ncid:341 pid:842156559\\nhgt:167cm hcl:#602927 byr:1939 ecl:amb iyr:2016\\n\\nbyr:2017\\ncid:176\\necl:#9e42ae iyr:2029 pid:8965345 eyr:2038 hcl:z\\nhgt:116\\n\\neyr:2027 iyr:2014 hcl:#ceb3a1\\ncid:280 pid:871521406 ecl:oth byr:1957 hgt:166cm\\n\\ncid:303 iyr:2019\\neyr:2021 pid:579593282 ecl:gry hcl:011a46 byr:1981\\nhgt:184cm\\n\\niyr:2015 byr:1936 cid:61 ecl:brn pid:307248029 hgt:172cm hcl:#18171d eyr:2029\\n\\npid:708687506 ecl:brn hcl:#602927\\niyr:2014 byr:1987\\nhgt:193cm\\neyr:2021\\n\\necl:gry\\niyr:2015 hcl:#efcc98 byr:1950\\ncid:150 eyr:2023 pid:569864726\\nhgt:161cm\\n\\nbyr:1920 hcl:#602927 iyr:2018\\necl:gry eyr:2020\\nhgt:192cm pid:020336420\\n\\nhcl:#539335 byr:1949\\nhgt:152cm\\ncid:95 pid:002018679\\neyr:2030 iyr:2015 ecl:brn\\n\\nhcl:#b6652a eyr:2023\\npid:515291463 iyr:2013 byr:1990\\necl:blu hgt:160cm\\n\\neyr:2030 iyr:2012\\necl:grn pid:416049447 hgt:188cm\\nhcl:#a97842 byr:1976\\n\\niyr:2017 hgt:61in ecl:oth byr:2001 eyr:2028\\nhcl:#733820\\npid:078720467\\n\\neyr:2021 hgt:151cm iyr:2020\\nhcl:#efcc98 ecl:oth\\nbyr:1985\\npid:876231883\\n\\niyr:2019 hcl:#ceb3a1 hgt:156in\\neyr:2004 pid:093465895 ecl:amb byr:2026\\n\\npid:103964845 hgt:178cm cid:320 ecl:oth\\nhcl:#fffffd byr:2002 eyr:2021 iyr:2019\\n\\necl:brn byr:1920 pid:499363957\\ncid:217 hcl:#341e13 hgt:164cm\\niyr:2017 eyr:2028\\n\\necl:brn pid:5837609946 iyr:2011\\nbyr:1971 eyr:2030 hgt:189cm\\nhcl:#866857\\n\\nbyr:1974 iyr:2015 hcl:#cfa07d\\nhgt:190cm ecl:grn pid:330115418 eyr:2020 cid:173\\n\\niyr:2010\\neyr:2024 byr:1943 pid:227557868\\ncid:102 hgt:72in\\nhcl:#6b5442\\n\\nhgt:151cm byr:1994\\npid:050723476\\ncid:104 iyr:2010 hcl:#b6652a\\necl:brn eyr:2030\\n\\necl:gry byr:1942\\nhcl:#c5e354 hgt:192cm iyr:2019\\neyr:2027 pid:192177566\\n\\necl:hzl hcl:#c0946f byr:1997 pid:853199076 hgt:166cm\\niyr:2019\\neyr:2020\\ncid:329\\n\\neyr:2027 iyr:2029 hcl:#602927\\npid:#1b8593 byr:2028 hgt:172in ecl:grn\\n\\neyr:2036 iyr:2030 ecl:utc\\npid:22330365 hcl:z byr:2016 hgt:65cm\\n\\npid:936740771\\necl:grn byr:1976\\nhcl:#602927\\niyr:2017 hgt:192cm\\ncid:257 eyr:2027\\n\\neyr:2021 pid:415535681\\nhcl:#b6652a hgt:191cm\\necl:hzl\\niyr:2013 byr:1985\\n\\nhgt:193cm\\npid:499609129\\niyr:2014 ecl:oth\\neyr:2029 hcl:#cfa07d byr:1973\\n\\necl:gry byr:1996 cid:85 hgt:174cm iyr:2013 pid:444611265 hcl:#6b5442 eyr:2028\\n\\npid:170343402\\niyr:2029\\nhgt:167cm\\nbyr:2016 eyr:2034 ecl:hzl hcl:z cid:254\\n\\nhcl:4893d5 ecl:blu byr:1960\\neyr:2027 pid:573029479 iyr:1952 hgt:74in\\n\\neyr:2021 hgt:192cm pid:729836929 iyr:2020 byr:1973\\ncid:155 ecl:grn hcl:#602927\\n\\nhcl:#a97842 byr:1946\\niyr:2018 cid:172 hgt:162cm eyr:2030 ecl:amb pid:028768413\\n\\niyr:2020 hcl:#c0946f ecl:grn pid:601040247 cid:237 hgt:177cm eyr:2024\\nbyr:1941\\n\\niyr:2014 byr:1959\\neyr:2028\\nhcl:#fffffd\\necl:#7df42b cid:165 hgt:68cm\\n\\nbyr:1944 hcl:#18171d\\npid:009636175 hgt:155cm ecl:amb eyr:2032 iyr:2015\\n\\nbyr:1987 hgt:150cm\\nhcl:#b6652a eyr:2021\\necl:blu\\npid:723709387 iyr:2017\\n\\nbyr:1937 ecl:oth eyr:2022 hcl:#733820 pid:143694811 cid:175 hgt:150cm\\n\\npid:562911401\\ncid:80 hgt:61in byr:1922 eyr:2027 ecl:amb iyr:2014\\nhcl:#602927\\n\\niyr:2013 ecl:amb pid:826291674 hcl:#ceb3a1 eyr:2021 byr:1968 hgt:75in\\n\\nhcl:#5e0e07\\nhgt:164cm pid:572114080 eyr:2028 iyr:2016\\nbyr:1922 ecl:oth\\n\\necl:blu eyr:2029 hgt:155cm\\nbyr:1950 hcl:#866857 cid:271 iyr:2015\\npid:216813084\\n\\niyr:2018 byr:2009 cid:212 ecl:#71a98c pid:3467231102 hcl:z hgt:173cm\\neyr:2026\\n\\neyr:1945 cid:302 iyr:2030\\nhcl:z pid:0411732179\\nbyr:2004 hgt:165in\\necl:grt\\n\\niyr:2010 hgt:169cm\\nhcl:#ceb3a1\\neyr:2022 pid:659709686 ecl:hzl\\nbyr:1931\\n\\nhcl:z pid:5077677466\\neyr:2021 hgt:184cm\\niyr:1973\\nbyr:2009 ecl:#35575e\\n\\nhgt:190cm cid:103 iyr:2018\\nbyr:1970 ecl:gry\\neyr:2028\\npid:549406360 hcl:#18171d\\n\\nbyr:1964 eyr:2023 iyr:2015 hgt:174cm pid:305268492\\nhcl:#b98e00 ecl:blu\\n\\nhgt:162cm\\necl:brn iyr:2019 byr:1951\\ncid:169 pid:755632568 eyr:2030 hcl:#ceb3a1\\n\\niyr:2010 ecl:oth hgt:192cm eyr:2025\\nhcl:#efcc98 pid:003868873 byr:1925\\n\\nhcl:z\\necl:gmt hgt:62 eyr:1991\\nbyr:2012\\niyr:2025 pid:1835041269\\n\\nhgt:162\\niyr:2026 byr:2024\\npid:6463124513 hcl:#602927 ecl:oth eyr:2028\\n\\nhcl:bfb027 iyr:1945 byr:1989 eyr:1944 pid:826897563 ecl:dne cid:117 hgt:177\\n\\nhcl:#b6652a iyr:2013\\necl:blu byr:1952 eyr:2020 pid:737726601 cid:308\\nhgt:167cm\\n\\neyr:2028 iyr:2012 hcl:#6b5442\\nbyr:1986 ecl:blu\\npid:365821409 hgt:180cm\\n\\nhgt:101 eyr:2037 pid:2457985649\\necl:gmt\\nhcl:4c0784 iyr:2029\\n\\nhcl:#341e13 iyr:1954 ecl:dne byr:2007\\neyr:2028 pid:552497791 hgt:189cm cid:263\\n\\necl:blu\\nhgt:71in pid:360012597 eyr:2029 hcl:#18171d byr:1949\\niyr:2014\\n\\nhgt:164cm cid:237 iyr:2016 byr:1966\\nhcl:#623a2f ecl:oth\\npid:129809894 eyr:2027\\n\\nhcl:a2243b eyr:2031\\necl:#de9183\\nbyr:1982 hgt:109 iyr:1968 pid:848311277\\n\\neyr:1950\\nhcl:45470a byr:1983\\npid:82580746 cid:321\\nhgt:191cm ecl:dne iyr:2013\\n\\niyr:2018 ecl:blu eyr:2021\\nbyr:1983 pid:045613120\\n\\nhgt:164cm byr:1926\\nhcl:#cfa07d\\neyr:2030\\niyr:2010\\npid:360787918 cid:61 ecl:amb\\n\\npid:#d6dddd iyr:1967 ecl:gmt hcl:z byr:1947 eyr:1943 cid:93 hgt:97\\n\\necl:oth hgt:172cm\\nhcl:#efcc98 byr:1957\\npid:729531506 iyr:2017\\neyr:2030\\n\\necl:#5a51b9 byr:2023 eyr:2021 iyr:2027\\npid:174cm hgt:80 hcl:6b4f6e\\n\\nhgt:157cm\\necl:amb\\neyr:2020 pid:994733990 iyr:2020 cid:174 byr:1966\\nhcl:#7d3b0c\\n\\neyr:1986\\nbyr:2020 hcl:#c0946f\\npid:499981246\\niyr:1926 cid:214 ecl:amb hgt:161cm\\n\\nhcl:#18171d byr:1971\\npid:#ef8a06\\neyr:2019 ecl:blu\\nhgt:158cm iyr:2011\\n\\nbyr:1959 cid:298 pid:876132993\\necl:blu iyr:2011 hgt:176cm\\nhcl:#6b5442 eyr:2030\\n\\neyr:2030\\nbyr:1926 hcl:#733820 iyr:2017\\nhgt:150cm pid:165cm ecl:blu\\n\\nbyr:1991 eyr:2027\\nhgt:183cm\\npid:178cm\\necl:grn hcl:8a6142 iyr:2017\\ncid:265\\n\\nhgt:183cm\\neyr:2027 hcl:#602927 pid:530884763 byr:1959 ecl:brn iyr:2013\\n\\nhcl:#b6652a eyr:2030 hgt:171cm cid:97 byr:2002 pid:166795809\\necl:hzl\\niyr:2016\\n\\npid:479944517 hgt:166cm byr:1976 eyr:2022 hcl:#a97842\\necl:grn iyr:2018\\n\\nbyr:1949\\neyr:2013\\nhcl:z ecl:hzl\\npid:152cm hgt:139 iyr:1962\\n\\npid:278193062 hcl:#c0946f iyr:2013 byr:1950 eyr:2020 hgt:167cm\\necl:oth\\n\\neyr:1955\\niyr:2018 pid:#ffd4de byr:1922 hgt:178cm hcl:z\\necl:lzr\\ncid:154\\n\\necl:grn hcl:#a189d5 byr:1977 pid:120286096\\neyr:1966\\nhgt:178cm\\niyr:2011\\n\\neyr:2028\\nhcl:#fffffd iyr:2013 byr:1956 pid:565425333 cid:207 ecl:gry hgt:67in\\n\\nhgt:188cm eyr:2028 cid:90\\niyr:2019 pid:574624890 hcl:#b6652a byr:1937 ecl:oth\\n\\nhcl:#efcc98 hgt:152cm ecl:hzl iyr:2010 cid:217 byr:1936 eyr:2027 pid:857984889\\n\\nhgt:124 iyr:2015 byr:1989 ecl:oth eyr:2023 hcl:#ceb3a1 pid:917440765\\n\\necl:#61e880 cid:82\\npid:165cm byr:2019 eyr:1930 hgt:152in hcl:z iyr:2030\\n\\nbyr:1974\\nhgt:60in ecl:gry\\nhcl:#c0946f\\npid:215085889\\niyr:2017 eyr:2020\\n\\necl:grn hcl:#ceb3a1\\npid:602147794 hgt:180cm eyr:2028 byr:1927 iyr:2018\\n\\nhcl:#ceb3a1 byr:1958 ecl:gry\\npid:210246609 iyr:2018 hgt:169cm\\neyr:2023\\ncid:255\\n\\neyr:2025\\nbyr:1950 hgt:177cm\\necl:gry pid:547034188\\niyr:2018\\ncid:218 hcl:#341e13\\n\\npid:380369950\\neyr:2022 hgt:65in iyr:2019 ecl:brn\\nbyr:1996\\n\\nhgt:167cm\\niyr:2014\\neyr:2029 cid:199 pid:144048588 byr:1963 ecl:oth hcl:#733820\\n\\nbyr:1962 ecl:brn hgt:161cm eyr:2022 hcl:#cfa07d\\npid:247699670 iyr:2016\\n\\nhgt:192cm ecl:#8bdb3e pid:#b152a9 hcl:#18171d iyr:2012 byr:2011 cid:335 eyr:2040\\n\\nhcl:11f8f4 ecl:#86f885 iyr:2022\\nhgt:75in\\npid:920078124 byr:1952 eyr:1994\\n\\npid:718378772 cid:282\\nhcl:#fffffd hgt:166cm eyr:2023 iyr:2019 byr:1944\\necl:grn\\n\\neyr:1963 pid:562051556\\necl:#793853\\nhcl:z byr:2030 iyr:2026\\n\\nbyr:1980\\ncid:143 hgt:161cm eyr:2022\\npid:778422225\\nhcl:#7d3b0c iyr:2011 ecl:blu\\n\\nbyr:1940 eyr:2021 hgt:74in cid:161 hcl:#a97842 ecl:blu\\npid:864682628 iyr:2014\\n\\nbyr:1991 pid:163871357 ecl:oth\\nhgt:189cm cid:229 eyr:2024\\nhcl:#efcc98\\niyr:2012\\n\\niyr:2013 hcl:#ceb3a1 ecl:hzl byr:1985 pid:801995950 hgt:73in\\neyr:2029\\n\\nbyr:1931 hcl:#ceb3a1 iyr:2013\\ncid:289 eyr:2027 ecl:blu\\nhgt:150cm pid:969679765\\n\\niyr:2015 hgt:176cm eyr:2025 ecl:blu\\nbyr:1935 pid:388582890 hcl:#efcc98\\n\\niyr:1956 eyr:2034 pid:049440894 ecl:xry byr:1950 cid:228\\nhgt:186cm\\n\\niyr:2014 hcl:#fffffd byr:1985\\neyr:2022\\nhgt:176cm pid:556889061 ecl:amb\\n\\npid:994755123 hgt:165cm\\necl:brn\\neyr:2022 byr:1937 iyr:2011\\n\\nbyr:2012\\nhcl:z cid:217 iyr:1958\\necl:brn hgt:160cm\\npid:871866608\\neyr:2027\\n\\nhcl:#a97842\\necl:hzl byr:1929\\niyr:2016\\neyr:2029 pid:220410871 hgt:192cm\\n\\npid:332596122 byr:1986\\nhcl:#cfa07d\\neyr:2022 hgt:189cm ecl:grn iyr:2016\\n\\nhgt:167cm\\nhcl:#6b5442 eyr:2026\\niyr:2020 ecl:grn cid:231 pid:521486150\\n\\ncid:299\\nhgt:178cm byr:1945 ecl:brn iyr:2012\\nhcl:#fffffd eyr:2022\\npid:264693268\\n\\necl:lzr pid:157cm hcl:f0a766\\niyr:2029 hgt:175in byr:2004\\n\\nhcl:#888785\\nhgt:159cm eyr:2025\\niyr:2012 ecl:oth\\nbyr:1995 pid:135442622\\n\\neyr:2024 hcl:#a97842\\niyr:2013 pid:186863004 ecl:brn byr:1929 hgt:162cm\\n\\npid:518619727 ecl:grn\\nhcl:#866857 byr:1954\\niyr:2016\\nhgt:69in\\n\\neyr:2022 iyr:2018\\nbyr:1926\\necl:oth pid:073817633\\nhgt:167cm hcl:#b6652a\\n\\nhgt:190cm iyr:2019\\necl:dne byr:2010 eyr:2023 pid:979671212\\n\\nhgt:190\\necl:#5ddbda byr:2025 iyr:1973 pid:#a082dc eyr:1998 cid:177 hcl:z\\n\\niyr:1976 eyr:2026 pid:4862485 hgt:71in\\nbyr:1975 ecl:#41855f hcl:#ceb3a1\\n\\necl:brn\\nbyr:1927 iyr:2012 hgt:67in\\npid:479646443 eyr:2039 hcl:z\\n\\npid:779458123\\ncid:263 hcl:#efcc98\\nbyr:1951\\nhgt:153cm iyr:2011\\necl:amb eyr:2030\\n\\nhgt:187cm\\neyr:2028\\nbyr:1957\\nhcl:#b6652a iyr:2015 pid:616963706 ecl:brn\\n\\nhgt:154cm byr:1947\\npid:51196404\\neyr:2020 iyr:2001\\necl:hzl\\n\\nhgt:157cm iyr:2013 eyr:2021\\necl:blu hcl:d9e6e0\\nbyr:2023\\n\\niyr:2010\\nhcl:#866857\\necl:brn eyr:2022\\ncid:163 byr:1962 pid:458396337 hgt:160cm\\n\\necl:amb eyr:2027\\nbyr:1987\\nhgt:184cm\\npid:125222897 cid:214\\niyr:2020\\n\\necl:grt eyr:1942\\niyr:2023\\nhcl:901862 hgt:159in\\nbyr:2009\\n\\neyr:2028\\nbyr:1973 hgt:151cm iyr:2013 ecl:hzl pid:229165831\\n\\neyr:2024 hgt:190cm ecl:grn byr:1962 iyr:1921 pid:531272718 hcl:#ceb3a1\\n\\nhgt:169in pid:1747598652 ecl:dne\\niyr:1974 eyr:2031 hcl:#602927 byr:2030\\n\\nhgt:177cm iyr:1963 eyr:2006\\ncid:276 hcl:#7d3b0c\\npid:192cm\\necl:grn byr:2022\\n\\npid:893346945 hcl:#733820 ecl:oth iyr:2013 byr:1973 hgt:186cm eyr:2025\\n\\nhgt:177cm\\neyr:2025\\nbyr:1997 hcl:#733820\\ncid:295 iyr:2016 pid:019887743 ecl:grn\\n\\niyr:2019\\nbyr:1982 eyr:2030 ecl:brn pid:041140029 hcl:#a97842 hgt:189cm\\n\\npid:165cm iyr:1962 hcl:e5c590 ecl:#e394a4\\neyr:2040\\nhgt:70cm byr:2006\\n\\nbyr:1940 eyr:2025 iyr:2020 hcl:#a97842 ecl:brn pid:502841851 cid:121\\nhgt:160cm\\n\\neyr:2015 ecl:zzz hgt:174 pid:154cm iyr:2021\\nhcl:z\\ncid:113\\nbyr:2003\\n\\niyr:2020\\neyr:2023 pid:402183362 hcl:#120eb2\\necl:amb\\nhgt:150in\\nbyr:1921\\n\\npid:059311672 cid:290 hcl:#7d3b0c byr:1996\\niyr:2021 hgt:155cm ecl:hzl eyr:2030\\n\\npid:790768270 hgt:167cm ecl:gry\\nbyr:1973\\nhcl:#b6652a eyr:2028 iyr:2017\\n\\nhcl:#18171d eyr:2024 pid:062349624\\nbyr:2002 iyr:2019 cid:230 ecl:oth\\n\\niyr:2015\\nhgt:170cm\\ncid:193\\neyr:2025 ecl:hzl byr:1947\\npid:484823445\\nhcl:#623a2f\\n\\npid:5792950369 cid:343\\nhcl:1d16b7 eyr:2024\\nhgt:185in iyr:1965\\necl:gmt byr:1948\\n\\npid:#a1a101\\necl:grn\\nbyr:1945\\niyr:2013 hcl:#ceb3a1 hgt:156cm cid:279 eyr:2026\\n\\npid:936593230 eyr:2026 hgt:179cm\\nhcl:#7d3b0c\\niyr:2015 byr:1976\\necl:gry\\n\\neyr:2021 pid:210678956 hgt:153cm cid:72 iyr:2018 ecl:grn\\n\\npid:995512119\\nbyr:1937 eyr:2021 hcl:#4d8fe2 ecl:brn\\niyr:2019\\nhgt:187cm\\n\\nhcl:#341e13 pid:282336259 eyr:2022\\ncid:95 byr:1977 hgt:101 ecl:#955529\\niyr:2029\\n\\npid:934992980 hcl:#fffffd iyr:2028 eyr:1945 ecl:gry byr:1926\\n\\niyr:2018 ecl:gry\\nhgt:179cm hcl:#866857 pid:573616710\\nbyr:1987\\n\\nbyr:2010 eyr:2021 hcl:z pid:018180068 hgt:74\\ncid:183 iyr:2027 ecl:dne\\n\\niyr:2020 hgt:160cm\\npid:760124779 hcl:#b6652a ecl:grn eyr:2030 byr:1951\\n\\npid:354858055 ecl:hzl hgt:192cm\\nhcl:#ceb3a1 byr:1983 cid:314\\niyr:2016 eyr:2027\\n\\neyr:2028 iyr:2013 hgt:171cm hcl:54be83 ecl:xry byr:2021\\npid:89895052\\n\\nbyr:1963 iyr:2019\\npid:298992037 eyr:2024\\nhgt:63in hcl:#341e13\\n\\nhgt:64cm\\npid:7645482607 ecl:#c94773 cid:231 hcl:621e9d eyr:2000 byr:2013\\n\\nhcl:#ceb3a1 ecl:gry iyr:2015 hgt:178cm byr:1945\\npid:416960939\\n\\nhgt:178cm\\ncid:121\\nbyr:1961 iyr:2019 hcl:#6b5442\\neyr:2028 pid:098226989\\n\\niyr:2015 eyr:2028\\necl:amb\\nhgt:154cm\\npid:364426658 byr:1960\\nhcl:#623a2f\\n\\nbyr:1998\\npid:#e5ab03 hcl:z ecl:grn\\niyr:2006 hgt:61cm eyr:2038\\n\\nhcl:#866857 eyr:2020\\nhgt:187in\\npid:#8239dc iyr:2010 ecl:#6259e7 byr:1939\\n\\npid:#6082fa eyr:2028 ecl:gry hcl:937410 iyr:2010\\nhgt:173cm\\n\\neyr:1922 ecl:grt pid:228396726 hgt:65cm\\nhcl:#6b5442 byr:2024 iyr:2010\\n\\nhcl:#c0946f iyr:2016 byr:1978\\npid:774430678 eyr:2026\\necl:oth hgt:61in\\n\\ncid:208 pid:714195768 iyr:2019 eyr:2022 byr:1937 ecl:gry hcl:#ceb3a1 hgt:159cm\\n\\neyr:2028 ecl:gry iyr:2010 byr:2001 hgt:163cm pid:409136005 hcl:#623a2f cid:200\\n\\npid:471094613 eyr:2028 hgt:165cm iyr:2010 ecl:amb byr:1995 hcl:#a97842\\n\\necl:oth iyr:2011 pid:907249487 eyr:2020\\nbyr:1924 cid:68 hcl:#a97842\\nhgt:155cm\\n\\nbyr:1983\\nhgt:69cm\\neyr:2027 iyr:2010 hcl:#866857\\npid:671371092\\necl:amb\\n\\nhgt:97 pid:168cm cid:67\\neyr:1957 hcl:#623a2f byr:2027 ecl:gry iyr:2019\\n\\necl:blu iyr:2012 pid:287999130 hgt:178cm eyr:2020\\nbyr:1940\\nhcl:#888785\\n\\nhcl:z hgt:63cm ecl:grt\\niyr:2024 eyr:2031 pid:167cm\\nbyr:2013\\n\\nhgt:65in hcl:z cid:300 ecl:amb pid:58257193\\nbyr:1969 iyr:2011 eyr:1985\\n\\nhcl:#341e13 eyr:2036 hgt:189in\\npid:58541401\\necl:#d793f2 iyr:2010 byr:2006\\n\\ncid:259 ecl:grn\\nhcl:#a97842\\nhgt:167cm\\npid:641690548 eyr:2021\\nbyr:1930\\niyr:2010\\n\\neyr:2027\\nhgt:75in\\ncid:335 hcl:#602927 iyr:2012 ecl:blu pid:724014178\\nbyr:1928\\n\\neyr:2027\\nhcl:#8345d8 ecl:grn byr:1965 pid:728151722\\nhgt:182cm iyr:2016\\n\\niyr:2020 pid:794922933\\nhcl:#341e13\\necl:oth\\nbyr:1985\\nhgt:71in\\neyr:2022\\n\\necl:#025c94\\nhcl:#fffffd\\niyr:2027\\nbyr:1987 hgt:186cm cid:135 pid:005852205\\neyr:2021\\n\\nbyr:2020\\necl:grn\\npid:91200233\\niyr:2014 eyr:2020 hgt:179cm hcl:be0c95\\n\\necl:gmt iyr:2010 pid:171cm byr:2010 eyr:2036 hgt:159in hcl:424df0\\n\\necl:gry iyr:2013 hcl:#7d3b0c hgt:175cm pid:337611432 byr:1953 eyr:2021\\n\\nbyr:1926 pid:678688040\\nhcl:#cfa07d\\ncid:311 eyr:2027 hgt:183cm iyr:2018\\necl:blu\\n\\nbyr:2021\\npid:156cm\\necl:dne\\nhgt:156cm\\nhcl:#6b5442\\niyr:2027\\n\\npid:380639402 eyr:2025\\ncid:196\\nhgt:163cm\\nhcl:#602927 ecl:hzl\\niyr:2015\\n\\neyr:2039 hcl:5aa018 byr:2007 ecl:dne\\nhgt:77 pid:#d30c1c iyr:2025\\n\\necl:blu\\niyr:1986 pid:3544865154 eyr:2027 byr:2007 hgt:74cm hcl:ca33b3\\n\\npid:#b05294 byr:1951 hcl:#ceb3a1 cid:221\\niyr:2000 hgt:110 eyr:2021\\n\\nbyr:1954 hcl:#efcc98 iyr:2018 ecl:#f4ea81\\npid:414210788 hgt:174cm eyr:2037\\n\\npid:#abbdd9\\nhgt:164in\\niyr:2003 cid:319 eyr:2035\\nbyr:2015\\necl:#9b38c7\\n\\necl:amb\\niyr:2018 byr:1922\\nhgt:157cm pid:801421993 eyr:2029\\nhcl:#efcc98\\n\\neyr:2022\\nhcl:#b6652a\\necl:amb byr:1942\\nhgt:153cm iyr:2018\\npid:805225382\\n\\nbyr:1925\\nhcl:#efcc98 ecl:amb pid:539625393 cid:269\\nhgt:161cm iyr:2013 eyr:2025\\n\\ncid:305 hgt:154cm\\nhcl:#18171d byr:1998\\neyr:2029 iyr:2011 pid:634235387 ecl:gry\\n\\nhcl:#6b5442 pid:504467634 iyr:2018 cid:96 byr:1970\\necl:gry eyr:2023 hgt:167cm\\n\\niyr:2020 hgt:163cm hcl:#fffffd pid:762271916 byr:2029 eyr:2022\\necl:#12027c\\n\\nbyr:1978\\ncid:134 hcl:#6b5442\\niyr:2010 pid:627335191 ecl:blu eyr:2023 hgt:171cm\\n\\npid:260340768 hcl:#a97842 byr:1947 ecl:#2150e3 iyr:2019\\ncid:153\\nhgt:65in eyr:2025\\n\\nbyr:1973 eyr:2022\\ncid:229 pid:515108192 ecl:amb hcl:z\\niyr:2013 hgt:178cm\\n\\necl:hzl\\nhgt:158cm hcl:#a97842\\npid:657117959 byr:1977 eyr:2023 iyr:2018\\n\\necl:gry eyr:2024\\nhgt:163cm byr:1976 iyr:2017\\npid:653769092 hcl:#18171d\\n\\necl:amb pid:161694953\\nhcl:#602927 hgt:188cm eyr:2021 byr:1946\\niyr:2016\\n\\neyr:2021\\nhgt:178cm ecl:grn\\nbyr:1961 pid:472866063 iyr:2011 hcl:#cfa07d cid:160\\n\\neyr:2037 iyr:2011\\nhgt:187cm byr:1973 pid:163cm hcl:#b6652a\\necl:brn cid:283\\n\\niyr:2017 hcl:#18171d eyr:2020 pid:059926864 hgt:160cm ecl:brn\\n\\nbyr:2010\\nhcl:8217d4 hgt:153in iyr:1989 eyr:2037 pid:#74e0a4 ecl:#ba5782\\n\\necl:#28f922\\nbyr:1951 hgt:65cm\\niyr:2025 pid:151cm hcl:z eyr:2028\\n\\npid:302959013\\nhgt:167cm eyr:2022 ecl:hzl iyr:2014\\ncid:168\\nhcl:#888785 byr:1969\\n\\npid:013861920 hcl:#623a2f\\necl:gry\\nbyr:1928\\niyr:2017 hgt:174cm eyr:2028 cid:250\\n\\nbyr:1997 hgt:74cm hcl:#efcc98 eyr:2039 ecl:#d3dc6a\\ncid:243\\niyr:2030 pid:189cm\\n\\nhgt:67cm byr:2011 eyr:2040 pid:192cm ecl:#b7a5a8 hcl:281b25\\n\\niyr:2014 ecl:brn byr:1954 hcl:#fffffd pid:285922660 hgt:76in eyr:2028\\n\\niyr:2021 byr:2028\\neyr:2023\\nhgt:69in hcl:e832ef pid:714568559 ecl:#f10004 cid:208\\n\\necl:brn hgt:166cm hcl:#cfa07d\\ncid:59 pid:4884483993\\niyr:2012\\neyr:1932\\n\\niyr:2029 byr:2025\\ncid:238 ecl:utc\\neyr:2022\\npid:887425834 hgt:177in\\n\\npid:014383055 cid:342 hgt:183cm eyr:2025\\niyr:2014 ecl:blu byr:1969 hcl:#7d3b0c\\n\\neyr:2033\\nhcl:#341e13\\niyr:2014\\nhgt:71cm ecl:#750eec\\nbyr:1980 pid:#e2d3ac\\n\\nhgt:154cm iyr:2019 hcl:#341e13 ecl:hzl byr:1942 pid:393181243 eyr:2025\\ncid:316\\n\\necl:amb\\nhgt:158cm\\neyr:2025 byr:1986 hcl:#fffffd pid:379180765 iyr:2014\\n\\npid:8191674491 eyr:2028 hcl:#efcc98 byr:2015 iyr:2012\\necl:amb cid:140\\n\\nbyr:2015 hcl:8e3e81 eyr:2024 hgt:180cm iyr:1984 pid:#56cd0e\\necl:zzz\\n\\npid:247138863 eyr:2022 hgt:176cm iyr:2014 byr:1929\\necl:gry cid:87 hcl:#b6652a\\n\\nhcl:z pid:#c4cdee ecl:#ca97a6 byr:1971 eyr:2032\\niyr:1997 hgt:156in\\n\\necl:gry\\nhgt:167cm eyr:2030 byr:1984 hcl:#cfa07d iyr:2016\\n\\nhcl:#a97842 hgt:163cm\\npid:373461578 iyr:2017\\nbyr:1926 ecl:amb\\neyr:2021\\n\\ncid:161 hcl:#b6652a byr:1930 ecl:brn eyr:2028 hgt:166cm iyr:2016\\n\\necl:amb cid:126\\neyr:2024\\nhcl:#18171d iyr:2019\\nbyr:1991 hgt:183cm\\n\\necl:lzr iyr:2026 byr:1996\\nhgt:69in pid:#ccef7e eyr:2028\\nhcl:#fffffd\\n\\nhgt:68cm iyr:1945\\necl:brn byr:2009 pid:#56e987 hcl:fdd212 eyr:2023\\n\\npid:72039060 eyr:2036 hgt:172cm\\nhcl:#fffffd iyr:2011\\nbyr:1944 ecl:xry cid:202\\n\\necl:hzl\\neyr:2025\\nbyr:1922 hcl:#efcc98\\npid:795790549\\niyr:2020 hgt:150cm\\n\\nhgt:155cm\\nhcl:#373de2 pid:#707dc6 iyr:2017 byr:2002 eyr:2038\\necl:oth\\n\\nhcl:#888785 iyr:2011\\nhgt:159cm\\nbyr:1962 eyr:2026 ecl:amb pid:672792762\\n\\ncid:217 eyr:2025 hgt:164cm byr:1999 pid:975218035 ecl:grn hcl:#18171d iyr:2011\\n\\npid:655501194 eyr:2029 byr:1999 iyr:2013\\nhgt:183cm hcl:#a97842 ecl:hzl\\n\\nbyr:1986 hcl:#efcc98 pid:160cm ecl:oth eyr:2022 iyr:2022 hgt:150cm\\ncid:63\\n\\nhgt:69in byr:2002 pid:0528229881 ecl:blu hcl:z iyr:2022\\neyr:2033\\n\\niyr:2020 pid:007754028 hcl:z cid:232 ecl:dne hgt:73in\\n\\necl:hzl\\niyr:2016 hcl:#7d3b0c byr:1948\\neyr:2021\\ncid:269 hgt:173cm pid:176430746\\n\\ncid:310\\necl:xry\\neyr:2032 hgt:64cm\\npid:190cm hcl:z byr:2019\\n\\nhgt:150cm pid:660176034 hcl:#c0946f\\necl:hzl byr:1986 eyr:2021 iyr:2019\\n\\npid:7876582\\neyr:2021 iyr:2020\\nhgt:185cm hcl:#18171d cid:319 ecl:amb byr:1943\\n\\necl:hzl hcl:#623a2f iyr:1950 byr:2012 cid:334 eyr:2028\\n\\neyr:2028\\nbyr:1992 hcl:#b6652a ecl:hzl cid:222\\nhgt:189cm iyr:2016\\npid:092856842\\n\\nhcl:a3c52a\\niyr:2025 byr:2023\\nhgt:182cm ecl:#be1503 pid:9311657615 eyr:2005\\n\\neyr:2035\\nbyr:1988 hgt:193cm\\niyr:2028 cid:128 hcl:#18171d ecl:utc pid:9743739773\\n\\necl:zzz hcl:z\\nhgt:64cm pid:160cm byr:2026 eyr:1943 iyr:2028 cid:74\\n\\necl:oth\\npid:874577361\\niyr:2010 eyr:2021\\nhgt:160cm hcl:#c0946f\\nbyr:1959\\n'"
            ]
          },
          "metadata": {
            "tags": []
          },
          "execution_count": 185
        }
      ]
    },
    {
      "cell_type": "code",
      "metadata": {
        "id": "eX5rAlOubCj4"
      },
      "source": [
        "parsed = content.split('\\n\\n')"
      ],
      "execution_count": 182,
      "outputs": []
    },
    {
      "cell_type": "code",
      "metadata": {
        "colab": {
          "base_uri": "https://localhost:8080/",
          "height": 35
        },
        "id": "6kwiMhHwbU33",
        "outputId": "85a33e06-edb2-4bb1-a564-c998d1cbae74"
      },
      "source": [
        "parsed[0].replace('\\n',' ')"
      ],
      "execution_count": 152,
      "outputs": [
        {
          "output_type": "execute_result",
          "data": {
            "application/vnd.google.colaboratory.intrinsic+json": {
              "type": "string"
            },
            "text/plain": [
              "'byr:2024 iyr:2016 eyr:2034 ecl:zzz pid:985592671 hcl:033b48 hgt:181 cid:166'"
            ]
          },
          "metadata": {
            "tags": []
          },
          "execution_count": 152
        }
      ]
    },
    {
      "cell_type": "code",
      "metadata": {
        "id": "f2sgS5cla3z4"
      },
      "source": [
        "passports = [x.replace('\\n', ' ') for x in parsed]"
      ],
      "execution_count": 183,
      "outputs": []
    },
    {
      "cell_type": "code",
      "metadata": {
        "colab": {
          "base_uri": "https://localhost:8080/",
          "height": 35
        },
        "id": "HyX-oCLIa33I",
        "outputId": "a21ccfd9-3cd2-471f-ec3a-c0e6e356b112"
      },
      "source": [
        "passports[0]"
      ],
      "execution_count": 184,
      "outputs": [
        {
          "output_type": "execute_result",
          "data": {
            "application/vnd.google.colaboratory.intrinsic+json": {
              "type": "string"
            },
            "text/plain": [
              "'byr:2024 iyr:2016 eyr:2034 ecl:zzz pid:985592671 hcl:033b48 hgt:181 cid:166'"
            ]
          },
          "metadata": {
            "tags": []
          },
          "execution_count": 184
        }
      ]
    },
    {
      "cell_type": "code",
      "metadata": {
        "id": "3Mt9kRnmdT5q"
      },
      "source": [
        "valid = []\n",
        "for i in range(0, len(passports)):\n",
        "    myString = passports[i]\n",
        "    if 'byr' in myString and 'iyr' in myString and 'eyr' in myString and 'hgt' in myString and 'hcl' in myString and 'ecl' in myString and 'pid' in myString in myString:\n",
        "        valid.append(myString)"
      ],
      "execution_count": 155,
      "outputs": []
    },
    {
      "cell_type": "code",
      "metadata": {
        "colab": {
          "base_uri": "https://localhost:8080/"
        },
        "id": "1yLaquWndhg0",
        "outputId": "d1f5c954-c61c-4127-cb4e-51340abc4e37"
      },
      "source": [
        "len(valid)"
      ],
      "execution_count": 156,
      "outputs": [
        {
          "output_type": "execute_result",
          "data": {
            "text/plain": [
              "247"
            ]
          },
          "metadata": {
            "tags": []
          },
          "execution_count": 156
        }
      ]
    },
    {
      "cell_type": "code",
      "metadata": {
        "colab": {
          "base_uri": "https://localhost:8080/"
        },
        "id": "BYkjZMMoe2iE",
        "outputId": "67cd2eee-1a80-4b13-be67-c5cfea4f2fa7"
      },
      "source": [
        "# iterate through each element\n",
        "valid_two = []\n",
        "count = 0\n",
        "for passport in valid:\n",
        "    \n",
        "    one = passport.split(' ')\n",
        "    \n",
        "    # turn each element into chunks of key:value\n",
        "    for key_value in one:\n",
        "        \n",
        "# check each keyvalue pair for correct ranges\n",
        "        if 'byr' in key_value and int(key_value[4:]) >= 1920 and int(key_value[4:]) <= 2002:\n",
        "            count += 1\n",
        "\n",
        "        if 'iyr' in key_value and int(key_value[4:]) >= 2010 and int(key_value[4:]) <= 2020:\n",
        "            count += 1\n",
        "        if 'eyr' in key_value and int(key_value[4:]) >= 2020 and int(key_value[4:]) <= 2030:\n",
        "            count += 1\n",
        "        if 'hgt' in key_value and 'cm' in key_value[4:]:\n",
        "            num = key_value.strip(key_value[-2:])\n",
        "            num = num.strip(num[0:4])\n",
        "            num = int(num)\n",
        "            if num >= 150 and num <= 193:\n",
        "                count += 1\n",
        "        if 'hgt' in key_value and 'in' in key_value[4:]:\n",
        "            num = key_value.strip(key_value[-2:])\n",
        "            num = num.strip(num[0:4])\n",
        "            num = int(num)\n",
        "            if num >= 59 and num <= 76:\n",
        "                count += 1\n",
        "        if 'hcl' in key_value:\n",
        "            my_string = str(key_value[4:])\n",
        "            if len(my_string) == 7:\n",
        "                count += 1\n",
        "            \n",
        "        if 'ecl' in key_value:\n",
        "            colors = ['amb', 'blu', 'brn', 'gry', 'grn', 'hzl', 'oth']\n",
        "            eye_color = str(key_value[4:])\n",
        "            if eye_color in colors:\n",
        "                count += 1\n",
        "        if 'pid' in key_value:\n",
        "            passport_id = str(key_value[4:])\n",
        "            if len(passport_id) == 9:\n",
        "                count += 1\n",
        "    if count == 7:\n",
        "        valid_two.append(passport)\n",
        "        count = 0\n",
        "    else:\n",
        "        count = 0\n",
        "    \n",
        "    \n",
        "print('Total passports that have valid values is:',len(valid_two))\n",
        "        \n",
        "# if all in correct range, append to really valid\n",
        "\n"
      ],
      "execution_count": 227,
      "outputs": [
        {
          "output_type": "stream",
          "text": [
            "Total passports that have valid values is: 145\n"
          ],
          "name": "stdout"
        }
      ]
    },
    {
      "cell_type": "code",
      "metadata": {
        "colab": {
          "base_uri": "https://localhost:8080/"
        },
        "id": "V-nwkY9ek8EN",
        "outputId": "9811574e-6192-47cd-ffd6-988be1416e0a"
      },
      "source": [
        "\n",
        "valid[0:20]"
      ],
      "execution_count": 179,
      "outputs": [
        {
          "output_type": "execute_result",
          "data": {
            "text/plain": [
              "['byr:2024 iyr:2016 eyr:2034 ecl:zzz pid:985592671 hcl:033b48 hgt:181 cid:166',\n",
              " 'hgt:66cm pid:152cm hcl:cfb18a eyr:1947 byr:2020 ecl:zzz iyr:2029',\n",
              " 'pid:#5e832a ecl:dne hcl:#7d3b0c byr:2018 eyr:1928 hgt:61cm iyr:1936 cid:241',\n",
              " 'hcl:#888785 ecl:oth eyr:2025 pid:597580472 iyr:2017 hgt:187cm byr:1957 cid:247',\n",
              " 'eyr:2029 cid:145 iyr:2026 pid:178cm hgt:162in ecl:gry hcl:#a5d09f byr:2002',\n",
              " 'eyr:2024 ecl:amb pid:349191561 iyr:2018 hgt:156cm byr:1972 hcl:#341e13',\n",
              " 'byr:1998 pid:408617933 hcl:#fffffd hgt:193cm eyr:2021 ecl:brn iyr:2013',\n",
              " 'eyr:1964 byr:2026 hcl:#cfa07d hgt:154cm pid:175cm cid:85 iyr:2018 ecl:gmt',\n",
              " 'pid:173cm cid:235 eyr:1935 iyr:1952 ecl:utc byr:2015 hgt:187 hcl:6239ed',\n",
              " 'iyr:2015 hcl:#18171d pid:2691566700 ecl:gmt hgt:68cm eyr:2032 byr:2016 cid:341',\n",
              " 'hcl:#c0946f iyr:2010 pid:941290886 eyr:2023 ecl:brn hgt:190cm byr:1927',\n",
              " 'pid:423210256 eyr:2026 iyr:2011 byr:1926 hcl:#efcc98 ecl:grn hgt:185cm cid:135',\n",
              " 'ecl:blu eyr:2030 byr:1996 hgt:154cm iyr:2019 pid:809421142 hcl:#b6652a cid:250',\n",
              " 'hcl:39615c iyr:1934 byr:2009 pid:7752456272 hgt:191cm eyr:2024 ecl:#5b7a58',\n",
              " 'iyr:1938 hgt:160in hcl:#623a2f eyr:2031 ecl:grn pid:169cm byr:1964',\n",
              " 'ecl:grt byr:2004 hcl:026249 hgt:176in iyr:1933 eyr:2023 pid:176cm',\n",
              " 'hgt:167cm pid:023312072 ecl:oth iyr:2018 hcl:#866857 eyr:2024 byr:1994',\n",
              " 'hcl:#c0946f ecl:blu iyr:2016 eyr:2023 hgt:193cm pid:190756361 byr:1943 cid:306',\n",
              " 'iyr:2013 hgt:179cm ecl:oth cid:290 eyr:2020 pid:953948851 hcl:#6b5442 byr:1973',\n",
              " 'pid:795414848 cid:51 ecl:oth iyr:2020 hcl:#ceb3a1 eyr:2026 byr:1995 hgt:186cm']"
            ]
          },
          "metadata": {
            "tags": []
          },
          "execution_count": 179
        }
      ]
    },
    {
      "cell_type": "code",
      "metadata": {
        "colab": {
          "base_uri": "https://localhost:8080/"
        },
        "id": "AI9hZ_bVgAlS",
        "outputId": "9bfaf533-59a8-40c5-cde5-3e15d179368f"
      },
      "source": [
        "valid_sets"
      ],
      "execution_count": 163,
      "outputs": [
        {
          "output_type": "execute_result",
          "data": {
            "text/plain": [
              "{'ecl:oth pid:874577361 iyr:2010 eyr:2021 hgt:160cm hcl:#c0946f byr:1959 '}"
            ]
          },
          "metadata": {
            "tags": []
          },
          "execution_count": 163
        }
      ]
    },
    {
      "cell_type": "code",
      "metadata": {
        "id": "HzBARB4Xf85S"
      },
      "source": [
        ""
      ],
      "execution_count": null,
      "outputs": []
    },
    {
      "cell_type": "code",
      "metadata": {
        "colab": {
          "base_uri": "https://localhost:8080/",
          "height": 35
        },
        "id": "Zerzmllcfk9D",
        "outputId": "d5b3d79f-e2d3-4f4a-d76b-ad29664a7353"
      },
      "source": [
        "valid[1]"
      ],
      "execution_count": 159,
      "outputs": [
        {
          "output_type": "execute_result",
          "data": {
            "application/vnd.google.colaboratory.intrinsic+json": {
              "type": "string"
            },
            "text/plain": [
              "'hgt:66cm pid:152cm hcl:cfb18a eyr:1947 byr:2020 ecl:zzz iyr:2029'"
            ]
          },
          "metadata": {
            "tags": []
          },
          "execution_count": 159
        }
      ]
    },
    {
      "cell_type": "code",
      "metadata": {
        "id": "yEaxbsfAefUF"
      },
      "source": [
        "def validate(byr):\n"
      ],
      "execution_count": null,
      "outputs": []
    }
  ]
}