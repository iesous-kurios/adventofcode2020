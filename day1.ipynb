{
  "nbformat": 4,
  "nbformat_minor": 0,
  "metadata": {
    "colab": {
      "name": "day1.ipynb",
      "provenance": [],
      "authorship_tag": "ABX9TyNb8nlcjLOY1w1uulQ6xJbz",
      "include_colab_link": true
    },
    "kernelspec": {
      "name": "python3",
      "display_name": "Python 3"
    }
  },
  "cells": [
    {
      "cell_type": "markdown",
      "metadata": {
        "id": "view-in-github",
        "colab_type": "text"
      },
      "source": [
        "<a href=\"https://colab.research.google.com/github/iesous-kurios/adventofcode2020/blob/main/day1.ipynb\" target=\"_parent\"><img src=\"https://colab.research.google.com/assets/colab-badge.svg\" alt=\"Open In Colab\"/></a>"
      ]
    },
    {
      "cell_type": "code",
      "metadata": {
        "id": "p-G93hyU9XaD"
      },
      "source": [
        "import pandas as pd\n",
        " \n",
        "df = pd.read_csv('/content/input.csv', header=None)"
      ],
      "execution_count": 1,
      "outputs": []
    },
    {
      "cell_type": "code",
      "metadata": {
        "id": "8j3SsMDi9lRH"
      },
      "source": [
        "myList = df[0]"
      ],
      "execution_count": 2,
      "outputs": []
    },
    {
      "cell_type": "code",
      "metadata": {
        "colab": {
          "base_uri": "https://localhost:8080/"
        },
        "id": "UkTOeXW29xYl",
        "outputId": "f3195d6d-24ab-4aaf-9fdc-d031b40da3a4"
      },
      "source": [
        "for i in range(0, len(myList)-1):\n",
        "    for j in range(i + 1, len(myList)-2):\n",
        "        for k in range(j + 1, len(myList)):\n",
        "            if myList[i] + myList[j] + myList[k] == 2020:\n",
        "                print('Triplet is', myList[i], myList[j], myList[k])"
      ],
      "execution_count": 3,
      "outputs": [
        {
          "output_type": "stream",
          "text": [
            "Triplet is 777 790 453\n"
          ],
          "name": "stdout"
        }
      ]
    }
  ]
}